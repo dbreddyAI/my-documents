{
 "cells": [
  {
   "cell_type": "markdown",
   "metadata": {},
   "source": [
    "Joint probability, $P(X,Y)$: the event x and y happen. <br>\n",
    "<h4>rule of probability</h4> \n",
    "$p(X) = \\sum_y{p(X,Y)}$,   # the p of x is the summation of all p(x,y) over y, similar to integration <br>\n",
    "$p(x,y) = p(y|x)p(x)$,  # then the joint p(x,y) is p(x) * p(y|x), p(x) is x occur over total, p(y|x) is y occur over x occur ratio <br> \n",
    "combination:  $p(x) = \\sum_y{p(y|x)p(x)}$\n",
    "<h4> Bayesian rule </h4>\n",
    "to prove $ p(x,y) = p(y,x) $, $$p(y|x) = \\frac{p(x|y)p(y)}{p(x)}$$ "
   ]
  },
  {
   "cell_type": "markdown",
   "metadata": {},
   "source": [
    "<h4>probability density </h4>\n",
    "when deal with continous variable <br>\n",
    "$ P(x \\in{(a,b)}) = \\int_a^b{p(x)dx} $, P(x) is the area of the integration <br>\n",
    "when integration from -inf, >> cumulative distribution function $$ P(z) = \\int_{-\\inf}^z {p(x)dx} $$ \n",
    "normalization $$ \\int_{-inf}^{inf}{p(x)dx} = 1 $$\n",
    "$ p(X) = \\int{p(X,Y)dy} $, # sum rule  <br>\n",
    "$p(x,y) = p(y|x)p(x) $,  # product rule is the same"
   ]
  },
  {
   "cell_type": "markdown",
   "metadata": {},
   "source": [
    "<h4> expection and covariances </h4> \n",
    "when apply p(x) to function f(x) to get weighted average of f(x) <br>\n",
    "like the histogram, the y is f(x), so the expectation is the expectation of y <br>\n",
    "$ E[f] = \\sum_x{p(x)f(x)} $,   $ E[f] = \\int{p(x)f(x)dx}$, (continous) <br>\n",
    "$ var[f] = E[ (f(x) - E[f(x)])^2 ] $, $ var[f] = E[f(x)^2] - E[f(x)]^2  $# the expectation of spread out, the spread out the distance between expectation and real value <br> \n",
    "covariance, when analyze two variable ( the f become x, y themselves, or f(x) = x ) <br>\n",
    "$ cov[x,y] = E_{x,y}\\{ [x - E[x]] [y - E[y]] \\}  $, where $E_{x,y} = \\int{p(x,y)dxdy} $ <br>\n",
    "\n",
    "<br>\n",
    "<br>\n",
    "\n",
    "<h4> Bayesian applicaton for parameter estimation </h4>\n",
    "D is the data, w is the parameter $$ p(w|D) = \\frac{p(D|w)p(w)}{p(D)} $$\n",
    "where $p(D|w)$ is the likelihood function, $p(w)$ is the prior <br>\n",
    "1. for frequentist setting: w is fixed, D are possible distribution data sets <br>\n",
    "They often use maximum likelihood by choosing w the max the p(D|w) <br>\n",
    "use -log(likelihood), which is called error function <br>\n",
    "use boostrap to determine error bar <br>\n",
    "\n",
    "2. for Bayesian, there is only a single data set D, uncertainty is expressed in a probability distribution of w <br>\n",
    "\n",
    "<h4> Gaussian Distribution </h4>\n",
    "likelyhood function $$ N(x|\\mu, \\sigma^2) = \\frac{1}{(2\\pi\\sigma)^{1/2}}exp\\{ -\\frac{(x - \\mu)^2}{2\\sigma^2} \\}$$"
   ]
  },
  {
   "cell_type": "code",
   "execution_count": null,
   "metadata": {
    "collapsed": true
   },
   "outputs": [],
   "source": []
  }
 ],
 "metadata": {
  "anaconda-cloud": {},
  "kernelspec": {
   "display_name": "Python [Root]",
   "language": "python",
   "name": "Python [Root]"
  },
  "language_info": {
   "codemirror_mode": {
    "name": "ipython",
    "version": 3
   },
   "file_extension": ".py",
   "mimetype": "text/x-python",
   "name": "python",
   "nbconvert_exporter": "python",
   "pygments_lexer": "ipython3",
   "version": "3.5.2"
  }
 },
 "nbformat": 4,
 "nbformat_minor": 1
}
