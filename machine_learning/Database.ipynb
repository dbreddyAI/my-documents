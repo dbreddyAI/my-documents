{
 "cells": [
  {
   "cell_type": "markdown",
   "metadata": {},
   "source": [
    "1. The process of query is first get the table >> apply limitation (where), \n",
    "2. **count** can be just count( * )"
   ]
  },
  {
   "cell_type": "markdown",
   "metadata": {},
   "source": [
    "<h3>SQL query </h3> \n",
    "\n",
    "Order by can use aggregation operator\n",
    "```SQL\n",
    "select species, count(species) from animals group by species order by count(species) desc\n",
    "```\n",
    "number of record\n",
    "```SQL\n",
    "limit 5 offset 20\n",
    "```\n",
    "Having \n",
    "```SQL\n",
    "/* select one food that is eaten by only one animal  */\n",
    "/* animals(name, species, birthdate); diet(species, food)  */\n",
    "select food, animals.species from animals join diet on animals.species = diet.species \n",
    "group by food\n",
    "having count(food) = 1 /* or count(animals.species) */\n",
    "```\n",
    "Joint three tables [1. by where (better); 2. by (a join b) join c) ]\n",
    "```SQL\n",
    "/* 1 */\n",
    "select ordernames.name, count(*) as num\n",
    "  from animals, taxonomy, ordernames\n",
    "  where animals.species = taxonomy.name\n",
    "    and taxonomy.t_order = ordernames.t_order\n",
    "  group by ordernames.name\n",
    "  order by num desc\n",
    "\n",
    "/* 2 */\n",
    "select ordernames.name, count(*) as num\n",
    "  from (animals join taxonomy \n",
    "                on animals.species = taxonomy.name)\n",
    "                as ani_tax\n",
    "        join ordernames\n",
    "             on ani_tax.t_order = ordernames.t_order\n",
    "  group by ordernames.name\n",
    "  order by num desc\n",
    "```"
   ]
  },
  {
   "cell_type": "markdown",
   "metadata": {},
   "source": [
    "<h3> SQL database operation </h3>\n",
    "<br>\n",
    "Create a database\n",
    "```SQL\n",
    "Create Database mydatabase; \n",
    "```\n",
    "Create a table \n",
    "```SQL\n",
    "Create table customers(\n",
    "    id int NOT NULL AUTO_INCREMENT,\n",
    "    Age int,\n",
    "    birthday DATE, \n",
    "    first_name, varchar(255),\n",
    "    last_name, varchar(255),\n",
    "    description, text /*text unlimited string */\n",
    "    homeid int,\n",
    "    Primary key(id)\n",
    "    Foreign key(homeid) references  Homes(homeID)\n",
    "; \n",
    "```\n",
    "Insert record. \n",
    "```SQL\n",
    "Insert Into customers(Age, birthday, first_name, last_name) \n",
    "Values (29, '1988-05-23','Han','Jiang');\n",
    "```\n",
    "(if it is the same order starting from first col, you don't need columns name) <br>"
   ]
  },
  {
   "cell_type": "markdown",
   "metadata": {},
   "source": [
    "<h3>Virtual machine </h3>\n",
    "setup virtual environment: this including installing virtual box, installing vagrant( share file between host computer and VM's filesystem), download VM configuration.<br>\n",
    "start up: 'cd D:\\Software\\FSND_...\\vagrant'; type 'vagrant up' to start VM, cd /vagrant to get the shared file. <br>\n",
    "log in: vagrant ssh <br>\n",
    "exit: cd .. and type exit to back your host computer <br>"
   ]
  },
  {
   "cell_type": "markdown",
   "metadata": {},
   "source": [
    "<h3>xampp </h3>\n",
    "click it, start mysql, "
   ]
  },
  {
   "cell_type": "markdown",
   "metadata": {},
   "source": [
    "<h3> Python API </h3>\n",
    "commit # if you don't commit, then it will roll back. \n",
    "\n"
   ]
  },
  {
   "cell_type": "code",
   "execution_count": null,
   "metadata": {
    "collapsed": true
   },
   "outputs": [],
   "source": []
  }
 ],
 "metadata": {
  "kernelspec": {
   "display_name": "Python [Root]",
   "language": "python",
   "name": "Python [Root]"
  },
  "language_info": {
   "codemirror_mode": {
    "name": "ipython",
    "version": 3
   },
   "file_extension": ".py",
   "mimetype": "text/x-python",
   "name": "python",
   "nbconvert_exporter": "python",
   "pygments_lexer": "ipython3",
   "version": "3.5.2"
  }
 },
 "nbformat": 4,
 "nbformat_minor": 2
}
