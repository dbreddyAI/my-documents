{
 "cells": [
  {
   "cell_type": "markdown",
   "metadata": {},
   "source": [
    "<h3> datetime </h3>\n",
    "**convert string to datetime object **   https://docs.python.org/3/library/datetime.html<br>\n",
    "```python\n",
    "    import from datetime import datetime\n",
    "    datatime_object = datetime.strptime('06/15/2016 09:54:58.5399','%m/%d/%Y %I:%M:%S.%f')\n",
    "# for pandas\n",
    "    df_raw['time'] = df_raw['Date & Time'].apply(lambda x: datetime.strptime(x,'%m/%d/%Y %H:%M:%S.%f'))\n",
    "```\n"
   ]
  },
  {
   "cell_type": "markdown",
   "metadata": {},
   "source": [
    "<h3> Pandas </h3>\n",
    "select multiple-columns\n",
    "```python\n",
    "    df[ ['col1','col2'] ]\n",
    "```\n",
    "group by \n",
    "```python\n",
    "    df_raw = df_raw.groupby(['time'], axis=0, as_index=False).mean()\n",
    "```\n",
    "\n",
    "lambda, apply for each row\n",
    "\n",
    "```python\n",
    "    df_raw['time'] = df_raw['Date & Time'].apply(lambda x: datetime.strptime(x,'%m/%d/%Y %H:%M:%S.%f'))\n",
    "```"
   ]
  },
  {
   "cell_type": "markdown",
   "metadata": {},
   "source": [
    "list comprehension; \n",
    "\n",
    "```python\n",
    "    # if ('for' first)\n",
    "    [True for e in list1 if e ==2]\n",
    "    [list_1b[i] for i,e in enumerate(list_1a) if e in list_2]\n",
    "    # if + else ('if else' first)\n",
    "    [True if e ==2 else False for e in list_1]\n",
    "```"
   ]
  },
  {
   "cell_type": "markdown",
   "metadata": {},
   "source": [
    "<h3>Searching </h3>\n",
    "search value return index \n",
    "```python\n",
    "    np.where(list_1 ==2) \n",
    "```"
   ]
  },
  {
   "cell_type": "markdown",
   "metadata": {},
   "source": [
    "multiple-boolean\n",
    "```python\n",
    "    (list_1 > 2) & (list_1 < 3) instead of list_1 > 2 and list_1 < 3\n",
    "```"
   ]
  },
  {
   "cell_type": "code",
   "execution_count": null,
   "metadata": {
    "collapsed": true
   },
   "outputs": [],
   "source": []
  }
 ],
 "metadata": {
  "kernelspec": {
   "display_name": "Python [Root]",
   "language": "python",
   "name": "Python [Root]"
  },
  "language_info": {
   "codemirror_mode": {
    "name": "ipython",
    "version": 3
   },
   "file_extension": ".py",
   "mimetype": "text/x-python",
   "name": "python",
   "nbconvert_exporter": "python",
   "pygments_lexer": "ipython3",
   "version": "3.5.2"
  }
 },
 "nbformat": 4,
 "nbformat_minor": 2
}
