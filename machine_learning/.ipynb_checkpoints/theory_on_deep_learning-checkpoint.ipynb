{
 "cells": [
  {
   "cell_type": "markdown",
   "metadata": {},
   "source": [
    "suppose we have a 32X32X3(height,width,depth) image, The input depth is can be 1 (BW) or 3(RGB), <br>\n",
    "basic structure of the network, filter layer, <br>\n",
    "**filter**, filter is the operation matrix (e.g. 3*3*depth, 5*5*depth), the value or weights plus bias needed to be learned by backpropogation. It applies dot product of the scanning region, to prduce a single value. e.g. a 5*5*3 filter apply to a 5*5*3 image region, to produce 1 value. The filter will learn a certain pattern in its weights, so the next hidden layer will be a filtered 'image' of previous layer.The higher level of filter can learn more abstract/complex information.    "
   ]
  },
  {
   "cell_type": "code",
   "execution_count": null,
   "metadata": {
    "collapsed": true
   },
   "outputs": [],
   "source": []
  }
 ],
 "metadata": {
  "kernelspec": {
   "display_name": "Python [Root]",
   "language": "python",
   "name": "Python [Root]"
  },
  "language_info": {
   "codemirror_mode": {
    "name": "ipython",
    "version": 3
   },
   "file_extension": ".py",
   "mimetype": "text/x-python",
   "name": "python",
   "nbconvert_exporter": "python",
   "pygments_lexer": "ipython3",
   "version": "3.5.2"
  }
 },
 "nbformat": 4,
 "nbformat_minor": 2
}
