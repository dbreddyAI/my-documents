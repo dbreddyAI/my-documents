{
 "cells": [
  {
   "cell_type": "markdown",
   "metadata": {
    "deletable": true,
    "editable": true
   },
   "source": [
    "<h3> datetime </h3>\n",
    "**convert string to datetime object **   https://docs.python.org/3/library/datetime.html<br>\n",
    "```python\n",
    "    import from datetime import datetime\n",
    "    datatime_object = datetime.strptime('06/15/2016 09:54:58.5399','%m/%d/%Y %I:%M:%S.%f')\n",
    "# for pandas\n",
    "    df_raw['time'] = df_raw['Date & Time'].apply(lambda x: datetime.strptime(x,'%m/%d/%Y %H:%M:%S.%f'))\n",
    "```\n"
   ]
  },
  {
   "cell_type": "markdown",
   "metadata": {
    "deletable": true,
    "editable": true
   },
   "source": [
    "<h3> Pandas </h3>\n",
    "select multiple-columns\n",
    "```python\n",
    "    df[ ['col1','col2'] ]\n",
    "```\n",
    "group by \n",
    "```python\n",
    "    df_raw = df_raw.groupby(['time'], axis=0, as_index=False).mean()\n",
    "```\n",
    "\n",
    "lambda, apply for each row\n",
    "```python\n",
    "    df_raw['time'] = df_raw['Date & Time'].apply(lambda x: datetime.strptime(x,'%m/%d/%Y %H:%M:%S.%f'))\n",
    "```"
   ]
  },
  {
   "cell_type": "markdown",
   "metadata": {
    "deletable": true,
    "editable": true
   },
   "source": [
    "<h3> Pandas sql </h3>\n",
    "a table, index is each state, columns is each disease name, value is number of people; Find out the top 3 diseases for each state. <br> \n",
    "- solution: tranpose df, then for each df_T[col], \n",
    "```python \n",
    "for col in df_T.columns:\n",
    "    data[col] = df_T[col].sort_values(acending=False).head(3).index\n",
    "```"
   ]
  },
  {
   "cell_type": "markdown",
   "metadata": {
    "deletable": true,
    "editable": true
   },
   "source": [
    "list comprehension; \n",
    "\n",
    "```python\n",
    "    # if ('for' first)\n",
    "    [True for e in list1 if e ==2]\n",
    "    [list_1b[i] for i,e in enumerate(list_1a) if e in list_2]\n",
    "    # if + else ('if else' first)\n",
    "    [True if e ==2 else False for e in list_1]\n",
    "```"
   ]
  },
  {
   "cell_type": "markdown",
   "metadata": {
    "deletable": true,
    "editable": true
   },
   "source": [
    "<h3>Searching </h3>\n",
    "search value return index \n",
    "```python\n",
    "    np.where(list_1 ==2) \n",
    "```"
   ]
  },
  {
   "cell_type": "markdown",
   "metadata": {
    "deletable": true,
    "editable": true
   },
   "source": [
    "multiple-boolean\n",
    "```python\n",
    "    (list_1 > 2) & (list_1 < 3) instead of list_1 > 2 and list_1 < 3\n",
    "```"
   ]
  },
  {
   "cell_type": "markdown",
   "metadata": {
    "collapsed": true,
    "deletable": true,
    "editable": true
   },
   "source": [
    "<h3> Jupyter Notebook </h3>\n",
    "```shell\n",
    "# create new environment with python version(optional)\n",
    "conda create -n env_name python=3.4 anaconda\n",
    "# list environment \n",
    "conda info --envs\n",
    "\n",
    "# check pacakge version\n",
    "pip show package\n",
    "# check python version \n",
    "python --version\n",
    "\n",
    "# install requirements\n",
    "pip install -r requirements.txt \n",
    "pip install joblib==0.10.2\n",
    "\n",
    "# activate that environment, for jupyter\n",
    "pip install ipykernel\n",
    "pip install ipython\n",
    "```"
   ]
  },
  {
   "cell_type": "markdown",
   "metadata": {
    "collapsed": true,
    "deletable": true,
    "editable": true
   },
   "source": [
    "<h3>Multiple image classification </h3>\n",
    "- stackoverflow question  https://stackoverflow.com/questions/42364513/how-to-recognise-multiple-objects-in-the-same-image <br>\n",
    "    Two nice and popular algorithms are YOLO (You Only Look Once),https://pjreddie.com/darknet/yolo/)\n",
    "    and SSD(Single Shot Multibox Detector https://arxiv.org/abs/1512.02325). \n",
    "    \n",
    "- quickstart using YOLO https://github.com/thtrieu/darkflow.\n",
    "\n",
    "<h3>Using pre-train model</h3>\n",
    "- https://gogul09.github.io/software/flower-recognition-deep-learning\n",
    "- **[idea]** use a Convolutional Neural Network as a Feature Extractor. Takes the activations available before the last fully connected layer of the network. a pre-trained CNN could be used as a Feature Extractor. <br>\n",
    "    different model avalable in keras. https://github.com/fchollet/keras/tree/master/keras/applications\n",
    "- python libs dependency: Theano or TensorFlow, Keras, seaborn, h5py, cPickle.\n",
    "- **workflow**: specify own configuration in 'config.json'; Extract and store features using 'extract_features.py.'; Train a Machine Learning model using logistic regression in 'train.py'; Evaluate the trained model and further optimization. "
   ]
  },
  {
   "cell_type": "code",
   "execution_count": null,
   "metadata": {
    "collapsed": true,
    "deletable": true,
    "editable": true
   },
   "outputs": [],
   "source": [
    "{\n",
    "    \"model\"           : \"inceptionv3\",\n",
    "    \"weights\"         : \"imagenet\",\n",
    "    \"include_top\"     : false,\n",
    "\n",
    "    \"train_path\"      : \"dataset/flowers_17\",\n",
    "    \"features_path\"   : \"output/flowers_17/inceptionv3/features.h5\",\n",
    "    \"labels_path\"     : \"output/flowers_17/inceptionv3/labels.h5\",\n",
    "    \"results\"         : \"output/flowers_17/inceptionv3/results.txt\",\n",
    "    \"classifier_path\" : \"output/flowers_17/inceptionv3/classifier.cpickle\",\n",
    "    \"model_path\"      : \"output/flowers_17/inception_v3/model\",\n",
    "\n",
    "    \"test_size\"       : 0.10,\n",
    "    \"seed\"            : 9,\n",
    "    \"num_classes\"     : 17\n",
    "}"
   ]
  }
 ],
 "metadata": {
  "anaconda-cloud": {},
  "kernelspec": {
   "display_name": "Python [Root]",
   "language": "python",
   "name": "Python [Root]"
  },
  "language_info": {
   "codemirror_mode": {
    "name": "ipython",
    "version": 3
   },
   "file_extension": ".py",
   "mimetype": "text/x-python",
   "name": "python",
   "nbconvert_exporter": "python",
   "pygments_lexer": "ipython3",
   "version": "3.5.2"
  }
 },
 "nbformat": 4,
 "nbformat_minor": 2
}
