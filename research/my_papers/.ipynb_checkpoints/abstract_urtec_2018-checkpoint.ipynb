{
 "cells": [
  {
   "cell_type": "markdown",
   "metadata": {
    "deletable": true,
    "editable": true
   },
   "source": [
    "data location<br>\n",
    "C:\\Users\\hj5446\\Dropbox\\F Disk\\1Research\\NMR_Inverse Code\\1_git_application\\NMR_to_RTs_pyrolysis_project_11_1_2017"
   ]
  },
  {
   "cell_type": "markdown",
   "metadata": {
    "deletable": true,
    "editable": true
   },
   "source": [
    "<h3>requirements</h3>\n",
    "- **Objectives/Scope (600 character limit)** <br>\n",
    "    - [main] The evolution of pore/fluid system under thermal effects is the key factor for estimation of shale gas production. However, complexity of shale rock including different types of fluids and a wide range of pore size, posing difficulty for characterization. In this paper, we experimentally changed maturity of shales using pyrolysis. Advance characterization technique was applied for better understanding the thermal evolution of pore/fluid system. The main objective is to quantify thermal effects on fluid distribution within same formation, and among different formations.   \n",
    "\n",
    "    - [other]Through thermal maturation of organic-rich shale, the pore system develops as temperature increases. They are poorly understood. once of the reason is heterogenity of the shale sample in natural reservoir. Another reason is a lack of advancing characterization techniques.  The main objective is to quantify thermal effects on fluid distribution in same formation ,and comparing thermal effects on fluid distribution between different formations.\n",
    "    \n",
    "- **Methods/Procedures/Process (800 character limit)**<br>\n",
    "  - [main] Shale samples used in experiments were from Eagle Ford and North Rocky Mountains formations. For better heat transportation and fluid evaporation during pyrolysis, samples were crushed and sieved between 20-30 mesh sizes. Before pyrolysis, initial fluid conditions were determined by Nuclear Magetic Resonance (NMR) T1 and T2 measurement. Sample was heated in argon atmosphere for 24 hours at four temperature stages (110°C, 250°C, 450°C, and 650°C). For each stage, NMR T1 and T2 characterization were performed on the sample. Further, T1 and T2 distribution was mapped to T1 over T2 ratio (R) and T2 secular (Ts) for better quantification of different fluid distribution. We divided R and Ts distribution into 7 rectangle sections according to fluid properties and pore size. \n",
    "  - [other] Geochemical parameters are determined by Rock-Eval analysis, and mineralogical and elemental compositions were obtained by X-ray diffraction and X-ray fluorescence.\n",
    "  \n",
    "- **Results/Observations/Conclusions (800 character limit)**<br>\n",
    "    - [main].  As pyrolysis temperature increased, fluid volume kept decrease for both samples. On the other hand, the change of fluid volume between two thermal stages almost monotonically decreased as temperature increased.  On NMR R and Ts distribution, over 68% of fluid distribution was contributed from Regions 4 and Region 5 through all thermal stages, where low and mid viscosity fluid in small pore were anticipated. We defined a difference metric to quantify difference between two R and Ts distributions. Both samples showed that the largest difference occurred between 30°C and 110°C, where smallest difference occurred between 250°C and 450°C. The difference metric between two samples decrease monotonically, indicating a similar evolution due to thermal effects.  \n",
    "    \n",
    "- [other] Initially, the total fluid volume to bulk volume ratio for EF sample is 9.6%. NRM sample has a lower with value of 6.2%. The fluid volume of two samples kept decrease as the pyrolysis termperature increased. On the other hand, the change of fluid volume almost monotopically decreased as temperature increased. The most significant fluid volume lost occured at first stage when heating the sample heated from room temeprature to 110c.It casues the sample to lose about 60-70% of initial fluid volume. As final stage with temperature of 650c, EF sample lost 1.5% and NRM lost 5.4% of its initial fluid volume.  The significant loss at initial stage is mainly due to evaporation of water and free hydrocarbon occu large of. The 450c to 650c stage most likley to be contributed from clay-bound water. \n",
    "    After mappinp fluid voluem distribution from T1,T2 to R and Ts. The 7 regions. Initially, the region4 and region 5 dominated the fluid volume denote the small to mid viscous fluid (like water and light-hydrocarbon) in small pores, which dominate the pore region. The two regions together contibuted to 84.6% fluid volume in EF samples and they contriubed 76.6% fluid volume in NRM sample. Region 4 and region 5 remain the dominanty regions through all thermal stages, despite their portion droped to 66% - 68% for EF and to 68%-71% for NRM. \n",
    "    In order to quantitatively compare fluid distribution at different thermal stage for same sample and among different samples. We define difference metrics which is the sqaure root of RSS, Rss is defined which is the sum of sqaure of residual at each region. A high difference metrics reflect large change due to thermal effects within the sample or large difference among sample at same temperature. Within the sample, the difference metrics showed at the largest change occur from 30c to 110c. An interesting finding showed that the lowest difference occur at 250c to 450c, instead of 450c - 650c. The latter one may caused by released of clay-bound water. Among different sample, the largest is at 30c, as initial fluid distribution is different, the difference generall keep monotoply decrease, indicating at higher temperature the fluid distribution evelved to be more similar. \n",
    "    \n",
    "    From the T1 and T2 mapping, the two formation have different. their relative portions keep variation through different termpreature stage. The significant phenomean are:  as temperature increase the distribution evolve to be close. In the T1 and T2 mapping, The EF sample have a relative larger of its own Both the two samples show that the total fluid volume measured by NMR decrease as increase of pyrolysis temperature. We calculate the fluid volume change ratio with respect to.  We mapping T1T2 and define 7 zones for different fluid in different pores depend on their fluid viscosity and pore size. In the inital dratical change from 30-110c. Both samples indicate. The at initial doesn't have drast change,\n",
    "    \n",
    "- **Applications/Significance/Novelty (800 character limit)**<br>\n",
    "    The similarity metric used provide a qualititavie way to compared thermal effect on fluid distribution evoluation. Also it reveal information about fluid characterisitc among different formation.  using the same sample void the, apply to seperate the only only the overall fluid, but also help to understand individual fluid behavoir. The temperature induce the differnt formation fluid distribution evolve to be similar. The temperature factor contribute due to geological. which is consistent with the conclusion that   "
   ]
  },
  {
   "cell_type": "markdown",
   "metadata": {
    "deletable": true,
    "editable": true
   },
   "source": [
    "Studies on shales with different degrees of maturity show that the development of is associated with thermal degradation of macromolecular organic components The main objective of this research is to develop a characterization framework for understanding the evolution of the storage and transport system of the organic-rich shale during a wide range of thermal maturities. The primary tasks of the proposed research can be broken down as follows:"
   ]
  },
  {
   "cell_type": "markdown",
   "metadata": {
    "deletable": true,
    "editable": true
   },
   "source": [
    "heating sample in the inert air condition. "
   ]
  },
  {
   "cell_type": "markdown",
   "metadata": {
    "deletable": true,
    "editable": true
   },
   "source": []
  }
 ],
 "metadata": {
  "kernelspec": {
   "display_name": "Python [Root]",
   "language": "python",
   "name": "Python [Root]"
  },
  "language_info": {
   "codemirror_mode": {
    "name": "ipython",
    "version": 3
   },
   "file_extension": ".py",
   "mimetype": "text/x-python",
   "name": "python",
   "nbconvert_exporter": "python",
   "pygments_lexer": "ipython3",
   "version": "3.5.2"
  }
 },
 "nbformat": 4,
 "nbformat_minor": 2
}
