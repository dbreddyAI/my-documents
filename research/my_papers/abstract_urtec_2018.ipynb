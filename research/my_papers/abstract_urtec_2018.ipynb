{
 "cells": [
  {
   "cell_type": "markdown",
   "metadata": {},
   "source": [
    "<h3>requirements</h3>\n",
    "- **Objectives/Scope (600 character limit)** <br>\n",
    "    Through thermal maturation of organic-rich shale, the pore system within organic matter developed with increased maturity. fluids and different type of pores also changes. understand how the pore and fluid system evolution at different thermal stages is the key factor for estimatin of shale gas production. however they are poorly understood. once of the reason is heterogenity of the shale sample in natural reservoir. Another reason is a lack of advancing characterization techniques. In this paper, we use shales samples from two reservoir, and artificially degrade the organic matter by lab pyrolysis. The main objective of this research is to develop a characterization framework for better understanding the evolution of the pore and fluids system of the organic-rich shale using lab-pyrolsis. (exceed)  \n",
    "- **Methods/Procedures/Process (800 character limit)**<br>\n",
    "  We use two samples from two different formation. We first characterize geochemical parameters (maturity degree, organic content, kerogen type) of the shale using Rock-Eval analysis. The mineralogical and elemental compositions will be determined using X-ray diffraction (XRD) and X-ray fluorescence (XRF). Shale samples are crushed and seived by 20-30 mesh size for better heat transfer and fluid evaopration during pyrolysis. We first characterize the initial condition of the raw sample using NMR T1,T2 measuremens. We heat samples are transfer into the furnate instrument in a Argon air for 24 hours at four temperatures including 110c, 250c, 450c, and 650c. After each pyrolysis stage, we perform characterized using NMR T1-T2 measurements. To better characterze different fluid associated different pore. We then transfer T1-T2 distribution by distirbution. and define 7 zones for different in term of fluid properties and pore dimension.   \n",
    "- Results/Observations/Conclusions (800 character limit)\n",
    "    the total fluid volume decrease. \n",
    "- Applications/Significance/Novelty (800 character limit)"
   ]
  },
  {
   "cell_type": "markdown",
   "metadata": {},
   "source": [
    "Studies on shales with different degrees of maturity show that the development of is associated with thermal degradation of macromolecular organic components The main objective of this research is to develop a characterization framework for understanding the evolution of the storage and transport system of the organic-rich shale during a wide range of thermal maturities. The primary tasks of the proposed research can be broken down as follows:"
   ]
  },
  {
   "cell_type": "markdown",
   "metadata": {},
   "source": [
    "heating sample in the inert air condition. "
   ]
  },
  {
   "cell_type": "markdown",
   "metadata": {},
   "source": []
  }
 ],
 "metadata": {
  "kernelspec": {
   "display_name": "Python [Root]",
   "language": "python",
   "name": "Python [Root]"
  },
  "language_info": {
   "codemirror_mode": {
    "name": "ipython",
    "version": 3
   },
   "file_extension": ".py",
   "mimetype": "text/x-python",
   "name": "python",
   "nbconvert_exporter": "python",
   "pygments_lexer": "ipython3",
   "version": "3.5.2"
  }
 },
 "nbformat": 4,
 "nbformat_minor": 2
}
