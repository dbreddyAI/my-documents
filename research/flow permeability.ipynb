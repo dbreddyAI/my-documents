{
 "cells": [
  {
   "cell_type": "markdown",
   "metadata": {
    "deletable": true,
    "editable": true
   },
   "source": [
    "<h2>Basic concept </h2>\n",
    "transportation of gas in rock matrix is by **diffusion** and **advection** / Darcy's flow. \n",
    "Assumption for Darcy's flow $ Re = \\frac{\\rho v d}{\\mu} < 1 $. \n",
    "Slip at the pore walls. klinkenberg effects, (gas flow at low perssure at low permeability rock). determined by mean free path:<br>\n",
    "$$ \\lambda = \\frac{K_BT}{\\sqrt 2 \\pi d^2 P}$$\n",
    "where $K_B$ is the Bolzman constants, d is the molecular diamter, <br>\n",
    "Non-newtonian fluids:(when plug in balance equation)\n",
    "$$\\tau = \\mu \\gamma^\\prime$$\n",
    "where $\\gamma^\\prime = \\frac{dv}{dx}$ <br>\n",
    "\n",
    "<h3> Balance </h3>\n",
    "accumulation (variation in time) = flow in - flow out ( variation in space). where flow is flux time total area.  <br>\n",
    "accumulation of mass( mass in the **void space**): \n",
    "$$ A \\Delta x \\phi \\rho |_{t+\\Delta t} - A \\Delta x \\phi \\rho |_{t} $$\n",
    "flow in and flow out (mass flow in and out the surface, the void has no effect)\n",
    "$$ u_x|_x A  \\Delta t  \\rho - u_x|_{x+\\Delta x} A  \\Delta t \\rho $$\n",
    "Divided by $\\Delta t \\Delta V$ where $(\\Delta V = \\Delta x A)$, we have \n",
    "$$\\frac{\\partial }{\\partial t} (\\phi \\rho) = -\\frac{\\partial }{\\partial x} (u \\rho)$$\n",
    "This means the storage term change in time(volume remain const) = flow of mass change in space(surface)<br>\n",
    "**Darcy equation**, the velocisty(or flux) control by pressure gradient. \n",
    "$$ u = -\\frac{k}{\\mu}\\frac{dP}{dx}$$\n",
    "we have (density and pressure two variables)\n",
    "$$\\frac{\\partial }{\\partial t} (\\phi \\rho) = \\frac{\\partial }{\\partial x} (\\frac{\\rho k}{\\mu} \\frac{\\partial P}{\\partial x})$$\n",
    "Extend to 3D diffusivity euqations (k is a scalar):\n",
    "$$\\frac{\\partial }{\\partial t} (\\phi \\rho) = \\nabla (\\frac{\\rho k}{\\mu}  \\nabla P)$$\n",
    "\n",
    "<h3>Unsteady state </h3>\n",
    "assume k is constant, homogenous, viscosity is constant. T is constant, \n",
    "$$ \\phi \\frac{\\partial \\rho}{\\partial t} + \\rho \\frac{\\partial \\phi}{\\partial t} = \n",
    "\\frac{k}{\\mu}[\\rho \\nabla^2 P + \\nabla \\rho \\cdot \\nabla P]\n",
    "$$\n",
    "density $\\rho (P)$ and porosity $\\phi (P)$ is a function of pressure:\n",
    "$$ \\phi \\frac{d\\rho}{dP} \\frac{\\partial P}{\\partial t} + \\rho \\frac{d\\phi}{dP} \\frac{\\partial P}{\\partial t} = \n",
    "\\frac{k}{\\mu}[\\rho \\nabla^2 P + \\frac{d\\rho}{dP} \\nabla P \\cdot \\nabla P]\n",
    "$$\n",
    "fluid compressiblity (one order approx) $c_f$\n",
    "$$ c_f = \\frac{1}{\\rho}\\frac{d\\rho}{dP}$$\n",
    "or \n",
    "$$ \\frac{d\\rho}{dP} = c_f \\rho$$\n",
    "rock compressiblity $c_r$\n",
    "$$c_r = \\frac{1}{\\phi} \\frac{d\\phi}{dP}$$\n",
    "Plug in the euqation: \n",
    "$$\\phi c_f \\frac{\\partial P}{\\partial t} + \\rho c_r \\phi \\frac{\\partial P}{\\partial t} = \n",
    "\\frac{k}{\\mu}[\\rho \\nabla^2 P + c_f \\rho \\nabla P \\cdot \\nabla P]\n",
    "$$\n",
    "ignore the last term, we have \n",
    "$$\\phi ( c_f+c_r) \\frac{\\partial P}{\\partial t} = \\frac{k}{\\mu} \\nabla^2 P $$\n",
    "$$ \\frac{\\partial P}{\\partial t} = \\frac{k}{\\mu \\phi (c_f + c_r)} \\nabla^2 P $$\n",
    "\n",
    "<h3> In real gas </h3>\n",
    "The density in term of pressure is:\n",
    "$$\\rho = \\frac{P}{zRT}$$\n",
    "So $\\frac{d\\rho}{dP} is$\n",
    "$$ \\frac{d\\rho}{dP}= \\frac{d}{dP}\\frac{P}{zRT} = \\frac{1}{zRT} - \\frac{P}{zRT} \\frac{1}{z} \\frac{dz}{dP}  $$\n",
    "or \n",
    "$$ \\frac{d\\rho}{dP} = \\frac{\\rho}{P} - \\frac{\\rho}{z}\\frac{dz}{dP} $$\n",
    "So the fluid compressilbity becomes\n",
    "$$ c_g = \\frac{1}{\\rho}\\frac{d\\rho}{dP} = \\frac{1}{P} - \\frac{1}{z} \\frac{dz}{dP} $$\n",
    "The rock compressbility become almost zero:\n",
    "If we assume in small pressure range, the z factor is a constant, then the P can be replaced by density:\n",
    "\n",
    "$$\\frac{\\partial \\rho}{\\partial t} = \\frac{k}{\\mu \\phi c_g} \\nabla^2 \\rho $$\n"
   ]
  },
  {
   "cell_type": "markdown",
   "metadata": {
    "deletable": true,
    "editable": true
   },
   "source": [
    "<h2>  </h2>\n",
    "[Cui et al., 2009](#Cui et al., 2009)\n",
    "\n",
    "either diffusion or advection, the equation can be derived as diffusion-type equations([like FHH method]). \n",
    "the one-dimensional mass balance is(here the parameter can vary through space):\n",
    "$$ \n",
    "\\phi \\frac{\\partial \\rho}{\\partial t} + (1-\\phi)\\frac{\\partial q}{\\partial t} =\n",
    "\\frac{1}{r^m} \\frac{\\partial}{\\partial r} (r^m \\frac{\\rho k}{\\mu} \\frac{\\partial p}{\\partial r})\n",
    "$$\n",
    "where k is the permeability, $\\mu$ gas vescosity;\n",
    "Assuming the crushed samples have a spherical shape with radius $R_a$, the euqation becomes <br>\n",
    "$$ \\frac{\\partial \\rho}{\\partial t} = \\frac{K}{r^2} \\frac{\\partial}{\\partial r} (r^2 \\frac{\\partial \\rho}{\\partial r})$$\n",
    "where K is :\n",
    "$$K = \\frac{k}{\\mu c_g \\phi}$$\n",
    "If we consider adosportion: then K is \n",
    "$$K = \\frac{k}{\\mu c_g [\\phi + (1-\\phi)K_a]}$$\n",
    "The **boundary conditions are** :<br>\n",
    "\n",
    "$$\\frac{\\partial \\rho}{\\partial r} = 0  \\;\\;\\text{at r = 0} $$\n",
    "\n",
    "$$ \n",
    "-4\\pi R_a^2\\: N \\frac{k}{\\mu c_g} \\frac{\\partial \\rho}{\\partial r} = V_c \\frac{\\partial \\rho}{\\partial t}\n",
    "\\;\\; \\text{at r =}\\: R_a \n",
    "$$\n",
    "where N is the number of particle \n",
    "$$ N = \\frac{M/\\rho_b}{4/3\\pi R_a^3}$$ \n",
    "where M is the sample mass, $\\rho_b$ is the sample bulk density. <br>\n",
    "\n",
    "The **initial conditions** are:<br>\n",
    "in the core, all density equalts to initial free gas density\n",
    "$$\\rho = \\rho_0  \\;\\; \\text{for 0 <= r < a  at t=0}$$\n",
    "at the boundary(sample chamber) it equals to avarging initial free gas density in the dead volume. \n",
    "$$\\rho = \\rho_{c0}  \\;\\; \\text{for r =}\\; R_a  \\;\\;\\text{at t=0}$$\n",
    "\n",
    "The $\\rho_{c0}$ is the average initial gas density in the sample and reference cell **after opening the valve**; It is the total gas mass of the overal dead volume of two cells divided by total dead volume. \n",
    "$$\\rho_{c0} = \\frac{ \\rho_{r0} V_r + \\rho_0 (V_s - V_b)}{V_r + V_s - V_b}$$\n",
    "\n",
    "where $\\rho_0$ is the density in the sample cell before connecting to the reference cell. $\\rho_{r0}$ is the density in the reference cell before connecting to the sample cell.  <br>\n",
    "\n",
    "$\\rho_0$ is the density after gas expansion from reference cell into sample cell but prior to gas penetration into sample particles (**a few seconds after expansion**). When open the valve, assume the density outside the sample but inside the both cells have a equilibrium density called $\\rho_{c0}$ \n",
    "\n"
   ]
  },
  {
   "cell_type": "markdown",
   "metadata": {
    "deletable": true,
    "editable": true
   },
   "source": [
    "<h3> Basic equation</h3>\n",
    "[Carslaw & Jaeger,1959](#Carslaw & Jaeger,1959)\n",
    "1. basic flow euqation, which link a status condition(temperature) and transportation condition(heat/ energy), **The transportation of heat cause the change of temperature.** <br> Temperature is v;<br>\n",
    "The rate of flow of heat, per unit time per unit area is:\n",
    "$$f_x = - K \\frac{\\delta v}{\\delta x}$$\n",
    "K is the thermal conductivity.<br>\n",
    "In 3D cases:<br>\n",
    "$$f = - K \\; \\text{grad}\\: v$$\n",
    "2. basic balance equation the rate of heat flow through its **surface** equal to rate of heat gain or lose in its **volume**. \n",
    "where c is the specific heat(capacity), It is the heat capacity per unit mass. The heat capacity is the heat or energy increase by raising one degree of temperature. (unit is J/Kelvin) <br>\n",
    "The rate of gain heat is ( **v is easier to measure**): \n",
    "$$ \\rho c \\frac{\\partial v}{\\partial t} dxdydz$$\n",
    "The rate of heat flow through the surface is:\n",
    "$$ - \\text{div} \\:f dxdydz  $$\n",
    "The balance equation is:\n",
    "$$\n",
    "\\rho c \\frac{\\partial v}{\\partial t} + (\\frac{\\partial f_x}{\\partial x} +\\frac{\\partial f_y}{\\partial y}+\\frac{\\partial f_z}{\\partial z}) = 0 \n",
    "$$\n",
    "Use flow euqation to express in term of v:\n",
    "$$\n",
    "(\\frac{\\partial^2 v}{\\partial x^2} +\\frac{\\partial^2 v}{\\partial y^2}+\\frac{\\partial^2 v}{\\partial z^2}) - \\frac{1}{\\kappa} \\frac{\\partial v}{\\partial t} = 0\n",
    "$$\n",
    "where $\\kappa = \\frac{K}{\\rho c}$, it called diffusivity <br>\n",
    "**General form** when assuming all parameters are constant\n",
    "$$ \\frac{\\partial v}{\\partial t} = \\kappa \\nabla^2 v $$\n",
    "\n",
    "<h3> in sphere coordination</h3>\n",
    "To solve the unknown density. From the Book, in Chapter 9[P230-P231], the equation of conduction expressed in sherical coordinates becomes:( assuming no transport\n",
    "$$\\frac{\\partial v}{\\partial t} = \\kappa (\\frac{\\partial^2v}{\\partial r^2} + \\frac{2}{r} \\frac{\\partial v}{\\partial r} )$$\n",
    "where v is the temperature, k is \n",
    "or let $u = vr$, we have:\n",
    "$$\\frac{\\partial u}{\\partial t} = \\kappa \\frac{\\partial ^2 u}{\\partial r^2}$$\n",
    "In Chapter9 [P240-P241], **Problem 9.6** The sphere in contact with a well-stirred fluid. The sphere has a initial temperature a constant V, and at r = a to be in contact with a well-stiired fluid. The fluid has a mass $M^\\prime$ and specific heat $c^\\prime$. The initial temperature of the fluid is 0. We assume no heat loss from the fluid <br>\n",
    "\n",
    "The**initial conditions** are:\n",
    "$$ v = V \\: \\text{at} \\: 0 <=r < a , \\: \\text{when} \\: t=0 $$ \n",
    "$$v = 0 \\; \\text{at} \\; r=a, \\; \\text{when} \\; t=0 $$ \n",
    "**Boundary condititions** are: \n",
    "$$-4\\pi a^2K \\frac{\\partial v}{\\partial r} = M^\\prime c^\\prime \\frac{\\partial v}{\\partial t} \\; \\text{at r = a} $$\n",
    "So the temperature of the fluid (measured) is:\n",
    "$$ v_a = \\frac{V}{k+1} - 6kV \\sum_{n=1}^\\infty e^{-\\kappa \\alpha_n^2 t} \\frac{1}{k^2a^2 \\alpha_n^2 + 9(k+1)}$$\n",
    "The exponent is kappa (diffusivity) and alpha; $a \\alpha_n$ are the roots of\n",
    "$$\\tan a\\alpha = \\frac{3a\\alpha}{3 + k a^2\\alpha^2}$$.\n",
    "and \n",
    "$$ k = \\frac{3M^\\prime c^\\prime}{4\\pi a^3 \\rho c} $$"
   ]
  },
  {
   "cell_type": "markdown",
   "metadata": {
    "deletable": true,
    "editable": true
   },
   "source": [
    "<h3> Conversion table </h3>\n",
    "\n",
    "| variable(Carlaw,1959) |symbol | variable(Cui, 2009)| symbol|\n",
    "| :-------------: |:-------------:|:-------------:|:-------------:|\n",
    "| initial temperature solid sphere  | V | initial gas density in samples| $\\rho_0$ |   \n",
    "| initial temperature in fluid  | 0 | initial gas density in chamber| $\\rho_{c0}$ |   \n",
    "| tempreature of fluid with time| $v_a$ | gas density in chamber with time| $\\rho(t)$|\n",
    "| solid heat capacity / fluid heat capacity| $k$ =$\\frac{3M^\\prime c^\\prime}{4\\pi a^3 \\rho c}$| sample storage capacity / cell storage capacity| $K_c$ = $\\frac{\\rho_b V_c}{M[\\phi+(1-\\phi)K_a}$| \n",
    "|diffusivity(exponent)|$\\kappa$ = $\\frac{K}{\\rho c}$|diffusivity(exponent)|$K$ =$ \\frac{k}{\\mu c_g \\phi}$| \n",
    "|tangent solution(radius * $\\alpha$) |a$\\alpha_n$| tangent solution (dimenstionless)| $\\alpha_n$|\n",
    "| $\\alpha$ | $\\alpha_n$ | |$\\alpha_n/R_a$|\n",
    "\n",
    "\n"
   ]
  },
  {
   "cell_type": "markdown",
   "metadata": {
    "deletable": true,
    "editable": true
   },
   "source": [
    "<h3>Proving Cui's equation </h3>\n",
    "So similarly the density in the cell:\n",
    "$$\n",
    "\\rho (t) - \\rho_{c0}  = \\frac{\\rho_0 - \\rho_{c0} }{K_c+1} - 6K_c(\\rho_0-\\rho_{c0}) \n",
    "\\sum_{n=1}^\\infty e^{-K \\alpha_n^2/R_a^2 t} \\frac{1}{K_c^2 \\alpha_n^2 + 9(K_c+1)}\n",
    "$$\n",
    "or \n",
    "$$\n",
    "\\rho (t)  = \\rho_{c0} - \\frac{ \\rho_{c0} -\\rho_0 }{K_c+1} + 6K_c(\\rho_{c0}-\\rho_0) \n",
    "\\sum_{n=1}^\\infty e^{-K \\alpha_n^2/R_a^2 t} \\frac{1}{K_c^2 \\alpha_n^2 + 9(K_c+1)}\n",
    "$$\n",
    "which matches with [Cui et al., 2009](#Cui et al., 2009)'s equation in (A9a) <br>\n",
    "To solve for permeability, we need to transform it by:\n",
    "$$\n",
    "\\frac{\\rho (t)- \\rho_{c0}}{\\rho_{c0} -\\rho_0}  = - \\frac{1}{K_c+1} + 6K_c \n",
    "\\sum_{n=0}^\\infty e^{-K \\alpha_n^2/R_a^2 t} \\frac{1}{K_c^2 \\alpha_n^2 + 9(K_c+1)}\n",
    "$$\n",
    "or \n",
    "$$\n",
    "\\frac{(K_c+1)(\\rho (t)- \\rho_{c0})}{\\rho_{c0} -\\rho_0} = -1 + 6K_c(K_c+1)\n",
    "\\sum_{n=1}^\\infty e^{-K \\alpha_n^2/R_a^2 t} \\frac{1}{K_c^2 \\alpha_n^2 + 9(K_c+1)}\n",
    "$$\n",
    "or \n",
    "$$\n",
    " 1 - \\frac{(K_c+1)(\\rho_{c0} -\\rho (t))}{\\rho_{c0} -\\rho_0} = F_R = 6K_c(K_c+1)\n",
    "\\sum_{n=1}^\\infty e^{-K \\alpha_n^2/R_a^2 t} \\frac{1}{K_c^2 \\alpha_n^2 + 9(K_c+1)}\n",
    "$$\n",
    "where $F_R$ is defined as mass fraction of air in the cells that will be contained in the sample in future(not yet) <br>\n",
    "**simplification** <br>\n",
    "[Cui et al., 2009](#Cui et al., 2009)'s says in late-time, we only keep the first term.This is because the a larger the exponent is, the smaller the e value is \n",
    "So the expression becomes:\n",
    "$$F_R = 6K_c(K_c+1) e^{-K \\alpha_1^2/R_a^2 t} \\frac{1}{K_c^2 \\alpha_1^2 + 9(K_c+1)}$$\n",
    "where $F_R$ is calculate by current gas density in the cell, and density can be derived by current pressure in the cell.\n",
    "Taking the loarithmical value say natural log to get slope $s_1$ \n",
    "$$\\ln (F_R) = f_0 - s_1 t =  \\ln (\\frac{6K_c(K_c+1)}{K_c^2 \\alpha_1^2 + 9(K_c+1)}) -\\frac{K \\alpha_1^2}{R_a^2} t$$ \n",
    "As\n",
    "$$k =  \\mu c_g [\\phi + (1-\\phi)K_a] K$$\n",
    "and\n",
    "$$K = \\frac{R_a^2 s_1}{\\alpha_1}$$\n",
    "So from $s_1$, we can estimate the permeability k is:\n",
    "$$ k =\\mu c_g [\\phi + (1-\\phi)K_a] \\frac{R_a^2 s_1}{\\alpha_1}  $$"
   ]
  },
  {
   "cell_type": "markdown",
   "metadata": {},
   "source": [
    "<h3> about $F_R$ </h3>\n",
    "The expression is:\n",
    "$$F_R =  1 - \\frac{(K_c+1)(\\rho_{c0} -\\rho (t))}{\\rho_{c0} -\\rho_0}$$\n",
    "where $K_c$ is: \n",
    "$$K_c =  \\frac{\\rho_b V_c}{ M\\phi} = \\frac{V_c}{\\phi M / \\rho_b} = \\frac{ V_r + V_s - V_b }{\\phi V_b }$$\n",
    "so:\n",
    "$$K_c+1 =  \\frac{ V_r + V_s - V_b + V_b\\phi }{ V_b \\phi } \\;\\;(1) $$\n",
    "The $\\rho_{c0}$ is defined as:\n",
    "$$\\rho_{c0} = \\frac{\\rho_{r0} V_r + \\rho_0 (V_s - V_b)}{V_r + V_s - V_b}$$\n",
    "so when the final pressure, let $\\rho = \\rho_e$\n",
    "$$\\rho_{c0} - \\rho_e = \\frac{\\rho_{r0} V_r + \\rho_0 (V_s - V_b) - \\rho_e (V_r + V_s - V_b) }{V_r + V_s - V_b} $$\n",
    "$$ = \\frac{ (\\rho_{r0} - \\rho_e)V_r + (\\rho_0 - \\rho_e)(V_s - V_b) }{V_r + V_s - V_b}$$\n",
    "From the porosity equation \n",
    "$$\\phi (\\rho_e - \\rho_0) V_b = V_r(\\rho_{r0} - \\rho_e) + (V_s - V_b)(\\rho_0 - \\rho_e)   $$ \n",
    "or \n",
    "$$V_r(\\rho_{r0} - \\rho_e) = (V_s - V_b)( \\rho_e - \\rho_0) + V_b \\phi (\\rho_e - \\rho_0) = (V_s-V_b + V_b \\phi)(\\rho_e - \\rho_0) $$\n",
    "Plug it in the above equation \n",
    "$$\\rho_{c0} - \\rho_e = \\frac{(\\rho_e - \\rho_0)V_b\\phi}{V_r + V_s - V_b} \\;\\;(2)$$\n",
    "So \n",
    "$$ (K_c+1)(\\rho_{c0}-\\rho_e) = (V_r + V_s - V_b + V_b\\phi) \\frac{\\rho_e - \\rho_0}{V_r + V_s - V_b} $$\n",
    "$$ = \\frac{V_r(\\rho_e - \\rho_0) - V_b(\\rho_e - \\rho_0) + (V_s-V_b+V_b\\phi)(\\rho_e - \\rho_0) }{V_r + V_s - V_b}$$\n",
    "From the porosity equation, we have \n",
    "$$ (K_c+1)(\\rho_{c0}-\\rho_e) =\\frac{(V_r-V_b)(\\rho_e - \\rho_0) + V_r(\\rho_r-\\rho_e)}{V_r + V_s - V_b} \\;\\; (3) $$\n",
    "Also:\n",
    "$$\\rho_{c0} - \\rho_0 = \\frac{\\rho_{r0} V_r + \\rho_0 (V_s - V_b) - \\rho_0 (V_r + V_s - V_b) }{V_r + V_s - V_b} $$\n",
    "$$ = \\frac{ (\\rho_{r0} - \\rho_0) V_r }{V_r+V_s-V_b} \\;\\; (4)$$\n",
    "So Plug (4) into (3) we have\n",
    "$$ \\frac{(K_c+1)(\\rho_{c0}-\\rho_e)}{\\rho_{c0} - \\rho_0} = \\frac{(V_r-V_b)(\\rho_e - \\rho_0) + V_r(\\rho_{r0}-\\rho_e)}{(\\rho_{r0} - \\rho_0) V_r} =\\frac{V_r(\\rho_{r0}-\\rho_0) - V_b(\\rho_e - \\rho_0)}{(\\rho_{r0} - \\rho_0) V_r} $$\n",
    "So the final $F_R$ is:\n",
    "$$F_R =  1 - \\frac{(K_c+1)(\\rho_{c0} -\\rho (t))}{\\rho_{c0} -\\rho_0} = \\frac{V_r(\\rho_{r0} - \\rho_0) - V_r(\\rho_{r0}-\\rho_e) + V_b(\\rho_e - \\rho_0)}{Vr(\\rho_{r0} - \\rho_0)} = \\frac{V_b(\\rho_e - \\rho_0)}{V_r(\\rho_{r0} - \\rho_0)} $$"
   ]
  },
  {
   "cell_type": "code",
   "execution_count": null,
   "metadata": {
    "collapsed": true
   },
   "outputs": [],
   "source": []
  },
  {
   "cell_type": "markdown",
   "metadata": {
    "deletable": true,
    "editable": true
   },
   "source": [
    "<h3> algorithm workflow </h3>\n",
    "1. Read pressure and time from raw file,[t_datatime]. The raw excel file contains 4 columns: columns 1 is datetime with accuracy to sec (if the sampling rate is larger than 1, the output is one point per second with moving avaraging), column 2 is the pressure in (psig). column 3 is the temperature in ($c^\\circ$), column 4 is the pressure in voltage (VDC). Read column 1 and column  Convert the t_datetime into t_sec ( in unit of sec, no minute or hour). store as time and p_raw;\n",
    "```python\n",
    "    p_raw , time = load_measurement(filename) # using pandas to read, convert to second, then return array \n",
    "```\n",
    "\n",
    "2. Read sample information, the mass of empty vessel M_vessel_empty and mass of vessel mass M_vessel_sample, calculate the mass of sample by M_sample = M_vessel_sample - M_vessel_empty; read density dens_sample. Mass and density needed to be measured independently. compute sample bulk density  V_bulk = M_sample / dens_sample.\n",
    "```python\n",
    "    V_bulk = load_sample_info(filename)\n",
    "```\n",
    "\n",
    "3. load reference cell volume Vr, sample cell empty volume Vs_empty, load billets volume and set billet numbers in used, calculate total billets volume V_billets_total, then dead volume in sample cell Vs_dead = Vs_empty - V_billets_total; The total dead volume in both cells are Vc = Vs_dead + Vr\n",
    "```python\n",
    "    V_refer, V_sample = load_cell_info(filename, billets=[5])\n",
    "```\n",
    "\n",
    "4. seperate the pressure into 3 sections: **Vaccum stage, Elevate stage, Decay stage**. We perform 2 minutes of vaccum for sample chamber(Vaccum stage), then raise the pressure in reference cell by connecting to He tank(elevate stage),  setting up the max vaccum pressure P_vacc_max, any pressure that is smaller than that is the vaccum pressure id_vac = P_raw < P_vac_max (e.g.P_vac_max =0.5); then get the average vaccum pressure P_vac_mean. The get the elevate stage, where set the upper boundary and lower boundary of the pressure. first get the total max pressure, then perform  e.g. max - p < 0.033* max to find out the pressure P_elevated; In the decay stage, as it usually takes about over 24 hours to do the measurement, the pressure needed to be corrected for leakage (not for elevated stage or vaccum stage!). as the gas leakage cannot be avoi. The finally decay pressure is not a horizontal line,instead it is a inclined line. choosing a point in the late time where you think that the leakage dominates the decay, use that to do a linear fit to get the slope k from this equation p_decay = k*t + b. then the actual decay pressure P_decay_corr = P_decay ; you can plot the histogram of corrected finally pressure to see if it is gaussian distribution. then get the finally corrected decay using the finally 18 points P_decay_final_mean.\n",
    "\n",
    "```python \n",
    "    p_vaccum_mean, p_elevate_mean, p_decay_final_mean = get_three_pressures(p_raw, V_bulk, V_refer, V_sample,p_vaccum) \n",
    "    # subfunction \n",
    "    # vaccum stage \n",
    "    \n",
    "    function get_vaccum_stage(p_raw,p_vaccum_max): \n",
    "        id_vaccum = p_raw < p_vaccum_max\n",
    "        p_vaccum = p_raw[id_vaccum] \n",
    "        return p_vaccum, id_vaccum\n",
    "        \n",
    "    function get_evalate_stage(p_raw, dev = 0.033):\n",
    "        p_max = max(p_raw)\n",
    "        id_elevate = p_raw > (1-dev)*p_max\n",
    "        p_elevate = p_raw[id_elevate]\n",
    "        p_elevate_mean = mean(p_elevate)\n",
    "        return p_elevate_mean, p_elevate, id_elevate\n",
    "        \n",
    "    function get_decay_stage(p_raw, time, id_elevate, id_leak):\n",
    "        id_elevate_max = max(id_elevate) #??\n",
    "        id_decay#??? how to select this?\n",
    "        p_decay, time_decay = p_raw[id_decay:], time[id_decay]\n",
    "        rate_leak = get_leak_rate(p_decay, time, id_leak = None)\n",
    "        p_decay_corr = p_decay - rate_leak * time_decay\n",
    "        p_decay_final_mean = np.mean(p_decay_corr[-18:-1])\n",
    "        return p_decay_final_mean, p_decay_corr, time_decay, id_decay\n",
    "        \n",
    "```\n",
    "5. z factor calculation, is calcualte by fitting the pressure data;\n",
    "```python\n",
    "   z_vaccum,\n",
    "```"
   ]
  },
  {
   "cell_type": "markdown",
   "metadata": {
    "deletable": true,
    "editable": true
   },
   "source": [
    "http://www.cee.mtu.edu/~reh/courses/ce251/251_notes_dir/node4.html"
   ]
  },
  {
   "cell_type": "markdown",
   "metadata": {
    "deletable": true,
    "editable": true
   },
   "source": []
  },
  {
   "cell_type": "markdown",
   "metadata": {
    "deletable": true,
    "editable": true
   },
   "source": []
  },
  {
   "cell_type": "markdown",
   "metadata": {
    "deletable": true,
    "editable": true
   },
   "source": []
  },
  {
   "cell_type": "markdown",
   "metadata": {
    "deletable": true,
    "editable": true
   },
   "source": []
  },
  {
   "cell_type": "markdown",
   "metadata": {
    "deletable": true,
    "editable": true
   },
   "source": [
    "<h2> References </h2>\n",
    "1. <a id='Carslaw & Jaeger,1959'></a> Carslaw, H. S., and J. C. Jaeger. Heat in solids. Vol. 1. Clarendon Press, Oxford, 1959.\n",
    "2. <a id='Cui et al., 2009'></a> Cui, X., A. M. M. Bustin, and Robert M. Bustin. \"Measurements of gas permeability and diffusivity of tight reservoir rocks: different approaches and their applications.\" Geofluids 9, no. 3 (2009): 208-223."
   ]
  },
  {
   "cell_type": "code",
   "execution_count": null,
   "metadata": {
    "collapsed": true,
    "deletable": true,
    "editable": true
   },
   "outputs": [],
   "source": []
  }
 ],
 "metadata": {
  "anaconda-cloud": {},
  "kernelspec": {
   "display_name": "Python [Root]",
   "language": "python",
   "name": "Python [Root]"
  },
  "language_info": {
   "codemirror_mode": {
    "name": "ipython",
    "version": 3
   },
   "file_extension": ".py",
   "mimetype": "text/x-python",
   "name": "python",
   "nbconvert_exporter": "python",
   "pygments_lexer": "ipython3",
   "version": "3.5.2"
  }
 },
 "nbformat": 4,
 "nbformat_minor": 2
}
