{
 "cells": [
  {
   "cell_type": "markdown",
   "metadata": {},
   "source": [
    "<h3> casing</h3>\n",
    "**Why**:Casing is the man-made wellbore, It isolate the formation and the drilling operation, (no contamination of drilling fluid to fresh water, to hydrocarbon zone, no communication of different fluids in different depth of formation; No hydrocarbon through the surface;  protect the production zone;  \n",
    "\n",
    "On the surface, it is the **conductor casing**, can be hammered, the soil is soft, so this casing prevent the cave in. Then it is the **surface casing**, used to protect contamination of fresh water; Then it is the **intermediate casing**, used to go through troublesome formation(including the high pore pressure or low frac gradient, basically formation has small pressure margin);**reason**:Because now you can not drilling through the formation using same mud, before you change the mud, you need to do the casing at the depth, the drill through the subsequent formation using different density mud; The intermediate casing can be more than one, It can either reach to the surface or it is another casing string which suspend from the bottom of next larger casing through liner hanger(the casing string is called 'liner'), which hanging on the other casing. The liner provide 3 barrier compared with regular casing (only 1). **production casing**     "
   ]
  },
  {
   "cell_type": "markdown",
   "metadata": {},
   "source": [
    "cementing\n",
    "choosing of cement:\n",
    "evaluatio of cement job. "
   ]
  }
 ],
 "metadata": {
  "kernelspec": {
   "display_name": "Python [Root]",
   "language": "python",
   "name": "Python [Root]"
  },
  "language_info": {
   "codemirror_mode": {
    "name": "ipython",
    "version": 3
   },
   "file_extension": ".py",
   "mimetype": "text/x-python",
   "name": "python",
   "nbconvert_exporter": "python",
   "pygments_lexer": "ipython3",
   "version": "3.5.2"
  }
 },
 "nbformat": 4,
 "nbformat_minor": 2
}
