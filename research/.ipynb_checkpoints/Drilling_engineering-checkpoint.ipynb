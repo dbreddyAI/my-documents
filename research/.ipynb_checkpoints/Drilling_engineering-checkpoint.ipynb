{
 "cells": [
  {
   "cell_type": "markdown",
   "metadata": {
    "deletable": true,
    "editable": true
   },
   "source": [
    "<h3> casing</h3>\n",
    "**Why**:Casing is the man-made wellbore, It isolate the formation and the drilling operation, (no contamination of drilling fluid to fresh water, to hydrocarbon zone, no communication of different fluids in different depth of formation; No hydrocarbon through the surface;  protect the production zone;  \n",
    "\n",
    "On the surface, it is the **conductor casing**, can be hammered, the soil is soft, so this casing prevent the cave in. Then it is the **surface casing**, used to protect contamination of fresh water; Then it is the **intermediate casing**, used to go through troublesome formation(including the high pore pressure or low frac gradient, basically formation has small pressure margin);**reason**:Because now you can not drilling through the formation using same mud, before you change the mud, you need to do the casing at the depth, the drill through the subsequent formation using different density mud; The intermediate casing can be more than one, It can either reach to the surface or it is another casing string which suspend from the bottom of next larger casing through liner hanger(the casing string is called 'liner'), which hanging on the other casing. The liner provide 3 barrier compared with regular casing (only 1). **production casing**     "
   ]
  },
  {
   "cell_type": "markdown",
   "metadata": {
    "deletable": true,
    "editable": true
   },
   "source": [
    "cementing\n",
    "choosing of cement:\n",
    "evaluatio of cement job. "
   ]
  },
  {
   "cell_type": "markdown",
   "metadata": {},
   "source": [
    "<h3>Drilling bit </h3>\n",
    "**key**: bit type and application; bit capabilities and limitations; bi-center bits function, bit wear due to vibration; rock failure mechanisms <br>\n",
    "Bit type: roller cones and fixed-cutter <br>\n",
    "**Roller cones** <br>\n",
    "1. cutter: Milled Tooth & Tungsten carbide insert(TCI); Milled teeth is milled from steel(soft formation); TCI is pressed insert.\n",
    "2. mechanism: crush ans scarpe rock.\n",
    "3. teeth geometry: larger teetch( or wider spacing teeth), more aggressive, higher ROP, softer formation. \n",
    "4. bit bearing: unsealed(shallow formation, less expensive) and sealed (longer run life, more expensive);\n",
    "5. indication of bearing failure: increase torque, increase string vibration, sudden loss of ROP; Fishing of bit: hard rock easier, soft rock is not easy to recover\n",
    "\n",
    "**Fixed cutter bit** <br>\n",
    "PDC (polycrystalline diamond compact)\n",
    "1. no moving parts, no roller bearing( main advantage), \n",
    "2. mechanism: fail rock by shear but by crushing (less energy)\n",
    "3. body type: steel-PDC (stronger and tougher, need protection for abrasion and erosion); matrix bit, resistant for abrasion and erosion, require internal steel support\n",
    "4. cutter: Tungsten carbide / diamond table \n",
    "5. design: more aggressive shape, less number of cutter, softer formation\n",
    "6. other bit type: matrix impregnated diamond and diamond bits (using high RPM to get same ROP, senstive to shock and vibration) \n",
    "\n",
    "** Kymera bits** hybrid bits<br>\n",
    "\n",
    "**Bi-center bit** <br>\n",
    "ream(to enlarge the well). one center to pass through casing, another center to drill a larger diameter hole <br>\n",
    "Ream-while-drilling: run the hole with reamer recessed, in the open hole, activate the reamer<br>\n",
    "\n",
    "**bit selection** soft: milled tooth; medium -hard: TCI; soft to hard: PDC; hard - very hard: diamond impreg. <br> \n",
    "** failure mechanims**: crushing, compressive; grinding, compressive/shear; shearing: shear; eorsion: fluid jet; <br>\n",
    "\n",
    "**Mohr circle** <br>\n",
    "$$\\tau = C + \\sigma_n \\tan \\theta$$\n",
    "where C is the cohesive strength, $\\theta$ is the friction angle. \n",
    "or\n",
    "$$ \\tau = \\frac{1}{2} (\\sigma_1 - \\sigma_3) \\sin 2 \\phi $$\n",
    "where $\\phi$ is the angle between normal vector and $\\sigma_1$, $\\sigma_1$ is the max effective stress. <br>"
   ]
  },
  {
   "cell_type": "markdown",
   "metadata": {},
   "source": [
    "<h3> Drilling String </h3>\n",
    "function: transmit torque, weight-on-bit, control trajectory, fluid\n",
    "moving force, kelly, top drive, mud motor, rotary steerable system.\n",
    "components: **drill string**: drill pipe, heavy wall drill pipe; **Bottom-hole assmbly**: drill colar, stabilizer;  bit. <br>\n",
    "\n",
    "**drill pipe**:  character: length, size, yield strength, tensile strength. joint: upset;  failure: drill pipe should **NOT** in compression! it cause drill pipe to buckle. twist offs and wash out <br>\n",
    "\n",
    "**drill collar**: large diameter, thick tube. **function**: provde weight at the bottom, run in compression! material: steel, monel(non-magnetic drill collar)<br>\n",
    "\n",
    "** heavy wall drill pipe**: intermediate weight between drill collar and drill pipe; long tool joints, **function**: make transition from DC to DP more gradual. \n",
    "\n",
    "**stabilizer** centralization of drill string. directional drilling. prevent buckling. \n",
    "** Jar**: for drill and fishing "
   ]
  },
  {
   "cell_type": "code",
   "execution_count": null,
   "metadata": {
    "collapsed": true
   },
   "outputs": [],
   "source": []
  }
 ],
 "metadata": {
  "anaconda-cloud": {},
  "kernelspec": {
   "display_name": "Python [Root]",
   "language": "python",
   "name": "Python [Root]"
  },
  "language_info": {
   "codemirror_mode": {
    "name": "ipython",
    "version": 3
   },
   "file_extension": ".py",
   "mimetype": "text/x-python",
   "name": "python",
   "nbconvert_exporter": "python",
   "pygments_lexer": "ipython3",
   "version": "3.5.2"
  }
 },
 "nbformat": 4,
 "nbformat_minor": 2
}
