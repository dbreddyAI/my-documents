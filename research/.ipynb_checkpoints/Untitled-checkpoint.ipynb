{
 "cells": [
  {
   "cell_type": "markdown",
   "metadata": {},
   "source": [
    "<h2>Basic concept </h2>\n",
    "transportation of gas in rock matrix is by **diffusion** and **advection** / Darcy's flow. "
   ]
  },
  {
   "cell_type": "markdown",
   "metadata": {},
   "source": [
    "<h2>  </h2>\n",
    "either diffusion or advection, the equation can be derived as diffusion-type equations([like FHH method]). \n",
    "the one-dimensional mass balance is:\n",
    "$$ \n",
    "\\phi \\frac{\\partial \\rho}{\\partial t} + (1-\\phi)\\frac{\\partial q}{\\partial t} =\n",
    "\\frac{1}{r^m} \\frac{\\partial}{\\partial r} (r^m \\frac{\\rho k}{\\mu} \\frac{\\partial p}{\\partial r})\n",
    "$$\n",
    "where k is the permeability, $\\mu$ gas vescosity;\n",
    "Assuming the crushed samples have a spherical shape with radius $R_a$, the euqation becomes <br>\n",
    "$$ \\frac{\\partial \\rho}{\\partial t} = \\frac{K}{r^2} \\frac{\\partial}{\\partial r} (r^2 \\frac{\\partial \\rho}{\\partial r})$$\n",
    "where K is :\n",
    "$$K = \\frac{k}{\\mu c_g \\phi}$$\n",
    "If we consider adosportion: then K is \n",
    "$$K = \\frac{k}{\\mu c_g [\\phi + (1-phi)K_a}$$\n",
    "The **boundary conditions are** :<br>\n",
    "\n",
    "$$\\frac{\\partial \\rho}{\\partial r} = 0  \\;\\;\\text{at r = 0} $$\n",
    "\n",
    "$$ \n",
    "-4\\pi R_a^2\\: N \\frac{k}{\\mu c_g} \\frac{\\partial \\rho}{\\partial r} = V_c \\frac{\\partial \\rho}{\\partial t}\n",
    "\\;\\; \\text{at r =}\\: R_a \n",
    "$$\n",
    "where N is the number of particle \n",
    "$$ N = \\frac{M/\\rho_b}{4/3\\pi R_a^3}$$ \n",
    "where M is the sample mass, $\\rho_b$ is the sample bulk density. <br>\n",
    "\n",
    "The **initial conditions** are:<br>\n",
    "in the core, all density equalts to initial free gas density\n",
    "$$\\rho = \\rho_0  \\;\\; \\text{for 0 <= r < a  at t=0}$$\n",
    "at the boundary(sample chamber) it equals to avarging initial free gas density in the dead volume. \n",
    "$$\\rho = \\rho_{c0}  \\;\\; \\text{for r =}\\; R_a  \\;\\;\\text{at t=0}$$\n",
    "\n",
    "The $\\rho_{c0}$ is the average initial gas density in the sample and reference cell **after opening the valve**; It is the total gas mass of the overal dead volume of two cells divided by total dead volume. \n",
    "$$\\rho_{c0} = \\frac{ \\rho_{r0} V_r + \\rho_0 (V_s - V_b)}{V_r + V_s - V_b}$$\n",
    "\n",
    "where $\\rho_0$ is the density in the sample cell before connecting to the reference cell. $\\rho_{r0}$ is the density in the reference cell before connecting to the sample cell.  <br>\n",
    "\n",
    "$\\rho_0$ is the density after gas expansion from reference cell into sample cell but prior to gas penetration into sample particles (**a few seconds after expansion**). When open the valve, assume the density outside the sample but inside the both cells have a equilibrium density called $\\rho_{c0}$ \n",
    "\n"
   ]
  },
  {
   "cell_type": "markdown",
   "metadata": {},
   "source": [
    "<h3> Basic equation</h3>\n",
    "1. basic flow euqation, which link a status condition(temperature) and transportation condition(heat/ energy), **The transportation of heat cause the change of temperature.** <br> Temperature is v;<br>\n",
    "The rate of flow of heat, per unit time per unit area is:\n",
    "$$f_x = - K \\frac{\\delta v}{\\delta x}$$\n",
    "K is the thermal conductivity.<br>\n",
    "In 3D cases:<br>\n",
    "$$f = - K \\; \\text{grad}\\: v$$\n",
    "2. basic balance equation the rate of heat flow through its **surface** equal to rate of heat gain or lose in its **volume**. \n",
    "where c is the specific heat(capacity), It is the heat capacity per unit mass. The heat capacity is the heat or energy increase by raising one degree of temperature. (unit is J/Kelvin) <br>\n",
    "The rate of gain heat is ( **v is easier to measure**): \n",
    "$$ \\rho c \\frac{\\partial v}{\\partial t} dxdydz$$\n",
    "The rate of heat flow through the surface is:\n",
    "$$ - \\text{div} \\:f dxdydz  $$\n",
    "The balance equation is:\n",
    "$$\n",
    "\\rho c \\frac{\\partial v}{\\partial t} + (\\frac{\\partial f_x}{\\partial x} +\\frac{\\partial f_y}{\\partial y}+\\frac{\\partial f_z}{\\partial z}) = 0 \n",
    "$$\n",
    "Use flow euqation to express in term of v:\n",
    "$$\n",
    "(\\frac{\\partial^2 v}{\\partial x^2} +\\frac{\\partial^2 v}{\\partial y^2}+\\frac{\\partial^2 v}{\\partial z^2}) - \\frac{1}{\\kappa} \\frac{\\partial v}{\\partial t} = 0\n",
    "$$\n",
    "where $\\kappa = \\frac{K}{\\rho c}$, it called diffusivity <br>\n",
    "**General form**\n",
    "$$ \\frac{\\partial v}{\\partial t} = \\kappa \\nabla^2 v $$\n",
    "\n",
    "<h3> in sphere coordination</h3>\n",
    "To solve the unknown density. From the Book, in Chapter 9[P230-P231], the equation of conduction expressed in sherical coordinates becomes:( assuming no transport\n",
    "$$\\frac{\\partial v}{\\partial t} = \\kappa (\\frac{\\partial^2v}{\\partial r^2} + \\frac{2}{r} \\frac{\\partial v}{\\partial r} )$$\n",
    "where v is the temperature, k is \n",
    "or let $u = vr$, we have:\n",
    "$$\\frac{\\partial u}{\\partial t} = \\kappa \\frac{\\partial ^2 u}{\\partial r^2}$$\n",
    "In Chapter9 [P240-P241], **Problem 9.6** The sphere in contact with a well-stirred fluid. The sphere has a initial temperature a constant V, and at r = a to be in contact with a well-stiired fluid. The fluid has a mass $M^\\prime$ and specific heat $c^\\prime$. The initial temperature of the fluid is 0. We assume no heat loss from the fluid <br>\n",
    "The initial conditions are:\n",
    "$$v = V = const  \\; \\text{at} \\; 0<=r<=a, \\; \\text{when} \\; t=0$$\n",
    "Boundary condititions are: from t>0, the r=a boundary v = fluid v\n",
    "$$v = 0 \\; \\text{at} \\; r=a, \\; \\text{when} \\; t=0$$\n",
    "So the temperature of the fluid is:\n",
    "$$ v_a = $$"
   ]
  },
  {
   "cell_type": "markdown",
   "metadata": {
    "deletable": true,
    "editable": true
   },
   "source": [
    "http://www.cee.mtu.edu/~reh/courses/ce251/251_notes_dir/node4.html"
   ]
  },
  {
   "cell_type": "markdown",
   "metadata": {
    "deletable": true,
    "editable": true
   },
   "source": []
  },
  {
   "cell_type": "markdown",
   "metadata": {
    "deletable": true,
    "editable": true
   },
   "source": []
  },
  {
   "cell_type": "markdown",
   "metadata": {
    "deletable": true,
    "editable": true
   },
   "source": []
  },
  {
   "cell_type": "markdown",
   "metadata": {
    "deletable": true,
    "editable": true
   },
   "source": []
  },
  {
   "cell_type": "markdown",
   "metadata": {
    "deletable": true,
    "editable": true
   },
   "source": [
    "<h2> References </h2>\n",
    "1.1. <a id='Avnir et al., 1985'></a> "
   ]
  },
  {
   "cell_type": "code",
   "execution_count": null,
   "metadata": {
    "collapsed": true
   },
   "outputs": [],
   "source": []
  }
 ],
 "metadata": {
  "kernelspec": {
   "display_name": "Python [Root]",
   "language": "python",
   "name": "Python [Root]"
  },
  "language_info": {
   "codemirror_mode": {
    "name": "ipython",
    "version": 3
   },
   "file_extension": ".py",
   "mimetype": "text/x-python",
   "name": "python",
   "nbconvert_exporter": "python",
   "pygments_lexer": "ipython3",
   "version": "3.5.2"
  }
 },
 "nbformat": 4,
 "nbformat_minor": 2
}
