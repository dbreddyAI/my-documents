{
 "cells": [
  {
   "cell_type": "markdown",
   "metadata": {},
   "source": [
    "<h3>Basic theory</h3>\n",
    "- Basic pyhsics terms\n",
    "    - Precession. if the axis of rotation of a body is itself **rotating about a second axis**, that body is said to be precessing about the second axis. \n",
    "    \n",
    "    - Spin polarization: the degree by which the spin of elementary particles is **aligned to a given direction**.\n",
    "    - Spin: intrinsic angular momentum of elementary particles. Both protons and neutrons are spin =1/2. The total argular momentum of odd number of protons is non-zero [intro1](#intro1).<br>  \n",
    "    \n",
    "    - Angular momentum L: Anology to linear momentum $p = mv$, angular momentum is proportional to moment of inertia I and angular speed $\\omega$.  $$L = I \\omega $$ $$\\omega = 2\\pi f$$ It depends on the mass, position of the axis of rotation and the shape of the matter.\n",
    "    \n",
    "    - Torque: rotational force. When you apply force to a object, the object tend to rotate along a axis. Torque equals to distance cross product of Force $$\\tau = r \\times F = |r||F|\\sin\\theta$$\n",
    "    \n",
    "    - Moment of inertia: angular mass or rotational inertia. it determines the torque needed for a desired angular acceleration\n",
    "    about a rotational axis. $$ I=\\int _{Q}r^{2}dm$$ where Q is the entire mass, r is the distance with respect to the axis.\n",
    "    \n",
    "    - Planck constant：proportionality constant between the minimal increment of energy.\n",
    "    - Reduced Planck constant $$\\hbar ={\\frac{h}{2\\pi }} $$ so energy is $$E = \\hbar \\omega$$\n",
    " \n",
    "- Quantum mechanism\n",
    "   - Why hydorgen, NMR measurement can be made on any nucleus that has an odd number of protons. hydrogen is abundant in both water and hydrocarbons. has a relatively large magnetic moment can could be detected by intruments. \n",
    "   - spin or angular momentum[intro1](#intro1). Angular momentum is a vector which can be described by **a magnitude L** and **a direction, m**. The magnitude $$L = \\hbar \\sqrt{(I(I+1))} $$ where I is the spin quantum number, or Nuclear Spin Angular Momentum, m is the direction. $$m = -I, -I+1, ...,+I$$ for hydrogen $I = n/2$ and $n = 1$, n is the principal quantum number \n",
    "   - angular momentum along z direction[intro1](#intro1). $$I_z=\\hbar m$$ This is only for one proton. system angular momentum will be a cumulative effects.  \n",
    "    \n",
    "     "
   ]
  },
  {
   "cell_type": "markdown",
   "metadata": {},
   "source": [
    "<h3> Reference </h3>\n",
    "- <a id='intro1'></a>[intro1] https://chem.libretexts.org/Core/Physical_and_Theoretical_Chemistry/Spectroscopy/Magnetic_Resonance_Spectroscopies/Nuclear_Magnetic_Resonance/NMR%3A_Theory\n",
    "- <a id='wiki_spin1'></a>[spin1]https://en.wikipedia.org/wiki/Spin_(physics)"
   ]
  },
  {
   "cell_type": "code",
   "execution_count": null,
   "metadata": {
    "collapsed": true
   },
   "outputs": [],
   "source": []
  }
 ],
 "metadata": {
  "anaconda-cloud": {},
  "kernelspec": {
   "display_name": "Python [Root]",
   "language": "python",
   "name": "Python [Root]"
  },
  "language_info": {
   "codemirror_mode": {
    "name": "ipython",
    "version": 3
   },
   "file_extension": ".py",
   "mimetype": "text/x-python",
   "name": "python",
   "nbconvert_exporter": "python",
   "pygments_lexer": "ipython3",
   "version": "3.5.2"
  }
 },
 "nbformat": 4,
 "nbformat_minor": 2
}
