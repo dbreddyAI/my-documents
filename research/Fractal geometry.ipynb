{
 "cells": [
  {
   "cell_type": "markdown",
   "metadata": {
    "deletable": true,
    "editable": true
   },
   "source": [
    "In fractal dimension is a parametric estimation, we assume the distribution to be. like gaussian distribution, we can assume multiple-fractal dimension distribution. <br> \n",
    "FHH approach is when they dealing with thick film adsorption, they obtained a isotherm equation; Then when later on, people try to use fractal approach for modification of BET method, they obtained a similar form like FHH. But different approach consider different region( thick film, micro range), so that the relationship between v(FHH exponent) and D(fractal dimension) is different. <br> \n",
    "\n",
    "**algo** for determined, checking [Sokołowska 2001](#Sokołowska 2001)'s review. "
   ]
  },
  {
   "cell_type": "markdown",
   "metadata": {
    "deletable": true,
    "editable": true
   },
   "source": [
    "<h2> Adsorption isotherm methods for fractal dimension </h2>\n",
    "The BET equation:\n",
    "$$\\frac{1}{v[(p_0/p) - 1]} = \\frac{c-1}{v_mc} \\frac{p}{p_0} + 1/(v_mc)$$\n",
    "or \n",
    "$$\\frac{x}{v[1-x]} = \\frac{c-1}{v_mc}x + \\frac{1}{v_mc}$$\n",
    "where $x = p/p_0$, relative pressure; $v$ is the adsorbed gas quantity(volume units per 1g of adsorbent), $v_m$ is the monolayer gas quantity, c is BET constant <br>\n",
    "\n",
    "BET surface area lies in the assumption that surface roughness has small effects when relative pressure is low(which in the region of BET surface area). recent finding showed that this is not the case: people search fractal method to describe the adsorption, which leads to use these method to determine the adsorbent fractal dimension. a review on the fractal dimension requires FHH method, which can be found by [Jaroniec 1995](#Jaroniec 1995). <br>\n",
    "\n",
    "<h3> FHH method and derivation of the equations</h3>\n",
    "**In [Jaroniec 1995](#Jaroniec 1995)'s paper**<br>\n",
    "He mentioned there are different methods for evaluating the fractal dimension, from **adsorption, porosimetry, scanning electron microscopy, small-angle X-ray, neutron scattering measurements**. In gas adsorption, there are three ways to do so(monolayer capacity, log-log plot of pore size distribution, and FHH method)<br>\n",
    "1. **monolayer capacity**: \n",
    "$$n_m \\propto \\sigma ^{-D/2}$$\n",
    "where $n_m$ is the monolayer capacity. $\\sigma$ is the area occupied by one adsorbate molecule.D is the fractal dimension. <br>\n",
    "2. ** pore size distribution** \n",
    "$$ \\log J(r) = const - (D-2) \\log r$$\n",
    "where J(r) is the pore size distribution, r is the average pore radius. some authors applied this method in the micropore range <br>\n",
    "\n",
    "3. **Frenkel-Halsey-Hill** equation\n",
    "$$ \\ln n = const - (v) \\ln A$$\n",
    "where n is the amount adsorbed or relative adsorbed; v is FHH exponent; A is the adsorption potential:\n",
    "$$A = RT ln(p_0/p)$$\n",
    "The above equation is first derived by [Avnir & Mieczyslaw 1989](#Avnir & Mieczyslaw 1989), later confirm by [Yin 1992](#Yin 1992) and Pfeifer (Yin assumed pore size distribution is fractal, and used  kelvin equation to relate radius and adsorption potential to get same equation)<br>\n",
    "[Jaroniec 1995](#Jaroniec 1995) **validated** that FHH method although seemed model-dependent, is equivalent to the thermodynamic method(model-independent) proposed by [Neimark 1992](#Neimark 1992). Neimark model is below:\n",
    "$$ \\ln S = const - (D-2) \\ln r  $$\n",
    "where S is the surface area of the adsorbed liquid film, r is the average pore radius. <br>\n",
    "\n",
    "\n",
    "<h3> Determined the exponent of FHH </h3>\n",
    "As [Jaroniec 1995](#Jaroniec 1995) points out: Pfeifer \n",
    "1. when van der Waals attraction forces are dominaiting( when liquid/gas surface tension froces are negligible), the FHH exponent $  v = (3-D) / 3$; \n",
    "2. For higher coverange, interface is controlled by liquid/gas surface tension(capillary condensation), (the surface becomes thicker), $ v = 3-D $, which is first derived by [Avnir & Mieczyslaw 1989](#Avnir & Mieczyslaw 1989)\n",
    "\n",
    "If we don't know the adsorption region, [Jarzebski 1997](#Jarzebski 1997) suggested that, if  v < 1/3 or $ 1/m < 1/3$, then it is in the van der Waals region, else if $v > 1/3$ or $1/m > 1/3$, it is in the capillary condensation region. <br>\n",
    "\n",
    "**algo** for determined, checking [Sokołowska 2001](#Sokołowska 2001)'s review. \n",
    "\n",
    "<h3>Further reading </h3>\n",
    "\n",
    "**[Avnir & Mieczyslaw 1989](#Avnir & Mieczyslaw 1989)**<br>\n",
    "The result is  \n",
    "$$ \\theta = K[\\ln (p_0/p)]^{-v} $$\n",
    "or \n",
    "$$\\ln \\theta = \\ln K - (3-D) ln (\\ln (p_0/p)) $$\n",
    "where $v = 3-D$, $\\theta$ is the relative adsorption$ = v/v_o$(** the fraction of micropores**, $v_0$ is the micropore volume); D is the fractal dimension. <br>\n",
    "**This equation is very similar (only the form is similar) to FHH equationz** mentioned in P89 in book of [Gregg & Kenneth 1982](#Gregg & Kenneth 1982)<br>\n",
    "The derivation of the equation is extension of Dubinin-Radushkevich isotherm approach that for **microporous solids**, we have\n",
    "$$ \\theta = \\int_{x_{min}}^{x_{max}} \\exp (-mx^2A^2)J(x) dx a$$\n",
    "where x is the pore size. J(x) is the volume density function. Exp is the kernel function represents the DR isotherm for uniform micropores. Dubinin approach assumed x is slit-shape, and J(x) is bell-shaped (e.g. Gaussian function), So that determined the parameter becomes very easy. <br>\n",
    "[Yin 1992](#Yin 1992) provided a more general form of equation, the kernel function $f(x,A)$, $A = -\\Delta G$, **is the negative change of Gibb's free energy**. kernel function representss the probability of a pore with size x being occupied by an adsorbate in a system with adsorption potential A. \n",
    "\n",
    "[Avnir & Mieczyslaw 1989](#Avnir & Mieczyslaw 1989) use fractal approach that:\n",
    "$$ n \\propto x ^{-D}$$\n",
    "where n is the number of molecules that can cover the fractal surface, x is the molecule radius.<br>\n",
    "So that :\n",
    "$$V \\propto X^3x^{-D} = x^{3-D}$$\n",
    "So the J(x) can be expressed as:\n",
    "$$J(x) = dV/dx = Cx^{2-D}$$\n",
    "Plug in the $\\theta$ equation and apply integral approximation, the \\theta\\ becomes:\n",
    "$$\\theta = K^* A^{-v} $$\n",
    "where A is adosrption potential $A = RT ln(p_0/p)$ , we can use $K = K^* (RT)^{D-3}$ to get first equation <br>\n",
    "\n",
    "\n",
    "**[Gregg & Kenneth 1982](#Gregg & Kenneth 1982)**<br>\n",
    "In film thickens beyond two or three molecular layers, effect of surface structure is largely smoothed out, [Hill 1952](#Hill 1952) arrive at isotherm euqation\n",
    "$$ \\ln (p_0/p) = b \\theta^3$$\n",
    "[Halsey 1952](#Halsey 1952) obtained the more general equation\n",
    "$$ \\ln (p_0/p) = b \\theta^s$$\n",
    "where s expected to be between 2 and 3. b is the constant, regarded as empirical <br>"
   ]
  },
  {
   "cell_type": "markdown",
   "metadata": {
    "deletable": true,
    "editable": true
   },
   "source": [
    "<h3>General Fractal</h3>\n",
    "**Def**: traditional view, surface is a two dimenstional entity; fractal view: surface of progressively **higher irregularity is characterized by progressively higher fractal** [Avnir et al., 1985](#Avnir et al., 1985), **range**, D range 2 <=D < 3. (eg. graphites 2.0, silica gels 2.9-3.0)[Avnir et al., 1985](#Avnir et al., 1985). <br>\n",
    "**Assumption** fractal dimension requires it to be self-similary(2,5). However wide variety of materials meet this requirements(3,4). <br>\n",
    " **Math def**: [Pfeifer & David 1983](#Pfeifer & David 1983): In 3d space, take a unit square and determine the minimal number of ball of radius **r** that can be centered at suitable points of the square so that each point of the sqaure lies insides at least one ball. It decrease following $(\\pi r^2)^{-1}$ for square(2D), and r^3 for cubic(3D) *In other words, Here the measure object is a sphere, a set of point forming a unit square, a point should be at least be contained by one sphere*.<br>\n",
    "**Extend to nonplanar surface**: The number of N will increase when replace square with nonplanar plane. \n",
    "\n",
    "**History**. It is first introduced by [Mandelbrot 1967](#Mandelbrot 1967) on self-similarity. **fractal dimension** of coastline quantifies how the number of scaled measuring stickes required to measure the coastline changes.[Mandelbrot 1967](#Mandelbrot 1967). fractal dimension relate the number N of measure length r ( or scaling factor) to the to surface. ** scaling rule D**. If you measure a unit sqaure, you only need one a unit sqaure(N=1). If you using half unit square, you need four of them (N=4). <br>\n",
    "Thus we have $$ N \\propto \\epsilon ^{-D} $$ where N is the number of measuring item, $\\epsilon$ is the scaling factor like(1,1/2.1/3), D is the dimension. In the tranditional 2D examples D = 2. <br>\n",
    "The expression can be rearranged to be (using log) $$ \\log_\\epsilon^N = -D = \\frac{\\log N}{\\log \\epsilon} $$ <br>\n",
    "or  $$D = \\lim_{\\epsilon \\rightarrow 0 } \\frac{\\log N}{\\log 1/\\epsilon} $$ <br>\n",
    "\n",
    "**For simplicity, it can be just defined as:**\n",
    "$$ D = \\log N/ \\log (1/\\epsilon)$$\n",
    "\n",
    "**Pore fractal** <br>\n",
    "Further we have [Rieu et al., 1991](#Rieu et al., 1991). **'figs/10102017_fractal.png'** for more details. <br>\n",
    "Divide the system into m pores. <br>\n",
    "The pore volume:\n",
    "$$P_i = V_i - V_{i+1}$$ \n",
    "where $V_i$ is the fraction pore volume contain all pores with size $<=p_i$.<br>\n",
    "\n",
    "**Pore coefficients** $F_i$ is defined as:\n",
    "$$F_i = P_i / V_i$$\n",
    "<br>\n",
    "\n",
    "The fractal is introduced by self-similarity that the pore size$p_i$ and partial volume (represented by average diameter $d_i$ ), they both follow a same ratio(**defined scale factor here**):\n",
    "$$p_{i+1} = rp_i$$\n",
    "$$d_{i+1} = rd_i$$\n",
    "So from size to volume, the scale are $r^3$. So that the $F_i$ become constant. Further, the $V_i$ now becomes (**introducing of N**) :\n",
    "$$ V_i = N V_{i+1} + P_i$$\n",
    "\n",
    "The porosity can be defined (eq18 in the paper) as:\n",
    "$$\\phi = 1 - (1-F)^m $$\n",
    "Using fractal euqation $D = \\log N / \\log (1/r)$, in the following equation :\n",
    "$$F = 1- N r^3$$\n",
    "so that \n",
    "$$ F = 1 - r^{3-D}$$\n",
    "So the porosity euqation becomes:\n",
    "$$\\phi = 1 - (r^m)^{3-D} $$\n",
    "\n",
    "In restriced region (where $d_m <= d <= d_0$). ** for restricted region**, it becomes \n",
    "$$\\phi = 1 - (d_m / d_0 )^{3-D} $$"
   ]
  },
  {
   "cell_type": "markdown",
   "metadata": {
    "deletable": true,
    "editable": true
   },
   "source": [
    "<h3> other definition </h3>\n",
    "\n",
    "It also can be written in r instead of $\\epsilon$, [Pfeifer & David 1983](#Pfeifer & David 1983) like \n",
    "$$N(r) \\propto Cr^{-D}$$where C is the constant sometime be ignored. or when r $\\to$ zero, it become zero <br>\n",
    "\n",
    "So that $$\\log_r N = log_r C - D $$ <br> \n",
    "as we know, $log_r C = log_a C / log_a r $, so that it become close to 0 when r approaches zero <br>\n",
    "\n",
    "**Another definition: Hausdorff fractal dimension**: By [Pagel et al., 2000](#Pagel et al., 2000): ** In a restricted range** Given a point set embedded in an E-dimensional space, divide this space into (hyper-)cubic grid cells of side r. Let N(r) denote the number of cells that are penetrated by the set of points (i.e., that contain one or more of its points). For a point set that has the self-similarity property in the range of scales r $\\in $ (r1; r2), its Hausdorff fractal dimension $D_0$ for this range is measured as:\n",
    "$$ D_0 = -\\frac{\\partial \\log (N(r))}{\\partial \\log(r)} = \\: constant $$<br>\n"
   ]
  },
  {
   "cell_type": "markdown",
   "metadata": {
    "deletable": true,
    "editable": true
   },
   "source": [
    "<h3> Gas Adsorption Fractal </h3>\n",
    "The pressure and radius equation:\n",
    "$$r_p - t = -\\frac{2\\gamma v_m cos\\theta}{RT \\ln (P/P_0)} $$\n",
    "where $r_p -t$ is the kevin radius. $r_p$ is the pore radius. t is the adsorption thickness. $\\gamma$ isthe surface tension (0.00885 N/M). $v_m$ is the molar volume 34.67 (cc/mol). T is the temperature(77K). R is the gas constant (8.31446 $m^3$ Pa / K mol). $P_0$ is the saturation pressure. It can be written as: \n",
    "$$r_p - t = \\frac{-A}{ln (P)} $$ or $$r_k =\\frac{B}{ln(P_0/P)}$$ <br>\n",
    "\n",
    "**Fractal** From the above equation, plug in $$ N \\propto \\epsilon^{-D}$$\n",
    "we have: \n",
    "$$ N \\propto \\frac{r_{min}}{r}^{-D} \\propto C(RT \\ln (P_0/P))^{-D}$$"
   ]
  },
  {
   "cell_type": "code",
   "execution_count": 8,
   "metadata": {
    "collapsed": false,
    "deletable": true,
    "editable": true
   },
   "outputs": [
    {
     "data": {
      "text/plain": [
       "-25.328436022934504"
      ]
     },
     "execution_count": 8,
     "metadata": {},
     "output_type": "execute_result"
    }
   ],
   "source": [
    "import numpy as np\n",
    "np.log(0.00000000001)"
   ]
  },
  {
   "cell_type": "markdown",
   "metadata": {
    "deletable": true,
    "editable": true
   },
   "source": []
  },
  {
   "cell_type": "markdown",
   "metadata": {
    "deletable": true,
    "editable": true
   },
   "source": []
  },
  {
   "cell_type": "markdown",
   "metadata": {
    "deletable": true,
    "editable": true
   },
   "source": []
  },
  {
   "cell_type": "markdown",
   "metadata": {
    "deletable": true,
    "editable": true
   },
   "source": []
  },
  {
   "cell_type": "markdown",
   "metadata": {
    "deletable": true,
    "editable": true
   },
   "source": []
  },
  {
   "cell_type": "markdown",
   "metadata": {
    "deletable": true,
    "editable": true
   },
   "source": []
  },
  {
   "cell_type": "markdown",
   "metadata": {
    "deletable": true,
    "editable": true
   },
   "source": []
  },
  {
   "cell_type": "markdown",
   "metadata": {
    "deletable": true,
    "editable": true
   },
   "source": [
    "<h3> Reference </h3>\n",
    "1. <a id='Avnir et al., 1985'></a> Avnir, David, Dina Farin, and Peter Pfeifer. \"Surface geometric irregularity of particulate materials: the fractal approach.\" Journal of Colloid and Interface Science 103, no. 1 (1985): 112-123. http://www.sciencedirect.com/science/article/pii/0021979785900827 <br>\n",
    "\n",
    "2. <a id='Pfeifer & David 1983'></a> Pfeifer, Peter, and David Avnir. \"Chemistry in noninteger dimensions between two and three. I. Fractal theory of heterogeneous surfaces.\" The Journal of chemical physics 79, no. 7 (1983): 3558-3565. http://aip.scitation.org/doi/pdf/10.1063/1.446210 <br> \n",
    "\n",
    "3. <a id='Mandelbrot 1967'></a> Mandelbrot, Benoit 1967 \"How Long Is the Coast of Britain? Statistical Self-Similarity and Fractional Dimension.\" Science, Vol. 156: 636-638.\n",
    "https://is.muni.cz/el/1456/jaro2009/PMNUME/Mandelbrot_-_How_long_is_the_cost_of_Britain__1967_.pdf   <br>\n",
    "\n",
    "4. <a id='Pagel et al., 2000'>  </a> Pagel, B-U., Flip Korn, and Christos Faloutsos. \"Deflating the dimensionality curse using multiple fractal dimensions.\" In Data Engineering, 2000. Proceedings. 16th International Conference on, pp. 589-598. IEEE, 2000. http://repository.cmu.edu/cgi/viewcontent.cgi?article=1567&context=compsci<br>\n",
    "\n",
    "5. <a id='Rieu et al., 1991'></a> Rieu, Michel, and Garrison Sposito. \"Fractal fragmentation, soil porosity, and soil water properties: I. Theory.\" Soil Science Society of America Journal 55, no. 5 (1991): 1231-1238. \n",
    "https://dl.sciencesocieties.org/publications/sssaj/abstracts/55/5/SS0550051231 \n",
    "\n",
    "6. <a id='Jaroniec 1995'></a> Jaroniec, M. \"Evaluation of the fractal dimension from a single adsorption isotherm.\" Langmuir 11, no. 6 (1995): 2316-2317. \n",
    "http://pubs.acs.org/doi/pdf/10.1021/la00006a076 \n",
    "\n",
    "7. <a id='Avnir & Mieczyslaw 1989'></a> Avnir, David, and Mieczyslaw Jaroniec. \"An isotherm equation for adsorption on fractal surfaces of heterogeneous porous materials.\" Langmuir 5, no. 6 (1989): 1431-1433.\n",
    "\n",
    "8. <a id='Gregg & Kenneth 1982'></a> [book] Gregg, S. J., and Kenneth SW Sing. \"Adsorption, surface area, and porosity.\" 2nd ed., Academic Press: London(1982).\n",
    "\n",
    "9. <a id='Halsey 1952'></a> Halsey, George D. \"The role of surface heterogeneity in adsorption.\" Advances in Catalysis 4 (1952): 259-269.\n",
    "\n",
    "10. <a id='Hill 1952'></a> Hill, Terrell L. \"Theory of physical adsorption.\" Advances in Catalysis 4 (1952): 211-258.\n",
    "\n",
    "11. <a id='Neimark 1992'></a> Neimark, A. \"A new approach to the determination of the surface fractal dimension of porous solids.\" Physica A: Statistical Mechanics and its Applications 191, no. 1-4 (1992): 258-262.\n",
    "\n",
    "12. <a id='Yin 1992'></a> Yin, Yongbai. \"Adsorption isotherm on fractally porous materials.\" Langmuir 7, no. 2 (1991): 216-217.\n",
    "http://pubs.acs.org/doi/pdf/10.1021/la00050a002 \n",
    "\n",
    "13. <a id='Jarzebski 1997'></a> Jarzebski, Andrzej B., Jarosław Lorenc, and Lucjan Paja̧k. \"Surface fractal characteristics of silica aerogels.\" Langmuir 13, no. 5 (1997): 1280-1285.\n",
    "http://pubs.acs.org/doi/abs/10.1021/la960011z\n",
    "\n",
    "14. <a id='Sokołowska 2001'></a> Sokołowska, Zofia, Mieczysław Hajnos, Christian Hoffmann, Manfred Renger, and Stefan Sokołowski. \"Comparison of fractal dimensions of soils estimated from adsorption isotherms, mercury intrusion, and particle size distribution.\" Journal of Plant Nutrition and Soil Science 164, no. 5 (2001): 591-599."
   ]
  },
  {
   "cell_type": "markdown",
   "metadata": {
    "collapsed": true,
    "deletable": true,
    "editable": true
   },
   "source": [
    "Further referencing\n",
    "1. <a id='Tyler & Wheatcraft 1992'></a> Tyler, Scott W., and Stephen W. Wheatcraft. \"Fractal scaling of soil particle-size distributions: analysis and limitations.\" Soil Science Society of America Journal 56, no. 2 (1992): 362-369.\n",
    "https://dl.sciencesocieties.org/publications/sssaj/abstracts/56/2/SS0560020362 <br>\n",
    "\n",
    "2. Perrier, Edith, Nigel Bird, and Michel Rieu. \"Generalizing the fractal model of soil structure: the pore–solid fractal approach.\" Geoderma 88, no. 3 (1999): 137-164. \n",
    "http://www.sciencedirect.com/science/article/pii/S0016706198001025 <br> \n",
    "\n",
    "3. **[book]** Mandelbrot, Benoit B., and Roberto Pignoni. The fractal geometry of nature. Vol. 173. New York: WH freeman, 1983.**Archived** <br>\n"
   ]
  },
  {
   "cell_type": "code",
   "execution_count": null,
   "metadata": {
    "collapsed": true,
    "deletable": true,
    "editable": true
   },
   "outputs": [],
   "source": []
  }
 ],
 "metadata": {
  "anaconda-cloud": {},
  "kernelspec": {
   "display_name": "Python [Root]",
   "language": "python",
   "name": "Python [Root]"
  },
  "language_info": {
   "codemirror_mode": {
    "name": "ipython",
    "version": 3
   },
   "file_extension": ".py",
   "mimetype": "text/x-python",
   "name": "python",
   "nbconvert_exporter": "python",
   "pygments_lexer": "ipython3",
   "version": "3.5.2"
  }
 },
 "nbformat": 4,
 "nbformat_minor": 2
}
