{
 "cells": [
  {
   "cell_type": "markdown",
   "metadata": {},
   "source": [
    "<h3> Working schedule </h3>\n",
    "NMR<br>\n",
    "- all pyrolysis measurements: 'C:\\Users\\hj5446\\Dropbox\\F Disk\\1Research\\NMR_Inverse Code\\Measurement'\n",
    "- get T1_T2, T2 secular 2D mapping\n",
    "    - function 'Main_T1T2_for_more_files.mat' \n",
    "    - location 'C:\\Users\\hj5446\\Dropbox\\F Disk\\1Research\\NMR_Inverse Code\\1_git_application\\NMR SUITE_git_HJ'    \n",
    "- basic mapping libary: 'C:\\Users\\hj5446\\Dropbox\\F Disk\\1Research\\NMR_Inverse Code\\1_git_application\\NMR_to_RTs'\n",
    "- for pyrolysis project: 'C:\\Users\\hj5446\\Dropbox\\F Disk\\1Research\\NMR_Inverse Code\\1_git_application\\NMR_to_RTs_pyrolysis_project_11_1_2017'\n",
    "    - whole core data: 'file_uncrushed_samples'\n",
    "    - pyrolysis 2_93 'files_2_93'\n",
    "    - pyrolysis 3_14 'files_3_14'\n",
    "    \n",
    "Permeability<br>\n",
    "- basic git function C:\\Users\\hj5446\\Dropbox\\F Disk\\1Research\\1_Experiement\\permeability\\git\n",
    "    - main branch: no using permeability\n",
    "    - dev branch: "
   ]
  },
  {
   "cell_type": "markdown",
   "metadata": {},
   "source": []
  }
 ],
 "metadata": {
  "anaconda-cloud": {},
  "kernelspec": {
   "display_name": "Python [Root]",
   "language": "python",
   "name": "Python [Root]"
  },
  "language_info": {
   "codemirror_mode": {
    "name": "ipython",
    "version": 3
   },
   "file_extension": ".py",
   "mimetype": "text/x-python",
   "name": "python",
   "nbconvert_exporter": "python",
   "pygments_lexer": "ipython3",
   "version": "3.5.2"
  }
 },
 "nbformat": 4,
 "nbformat_minor": 2
}
