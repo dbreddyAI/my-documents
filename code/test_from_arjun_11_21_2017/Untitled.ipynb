{
 "cells": [
  {
   "cell_type": "markdown",
   "metadata": {},
   "source": [
    "# build up model"
   ]
  },
  {
   "cell_type": "code",
   "execution_count": null,
   "metadata": {
    "collapsed": true
   },
   "outputs": [],
   "source": [
    "import pickle\n",
    "import urllib"
   ]
  },
  {
   "cell_type": "code",
   "execution_count": 114,
   "metadata": {},
   "outputs": [
    {
     "name": "stdout",
     "output_type": "stream",
     "text": [
      "<class 'list'>\n"
     ]
    }
   ],
   "source": [
    "with open('data/item_combs_1_1000000.pickle', 'rb') as handle:\n",
    "    item_combs = pickle.load(handle)"
   ]
  },
  {
   "cell_type": "code",
   "execution_count": 123,
   "metadata": {},
   "outputs": [
    {
     "data": {
      "text/plain": [
       "['P06P09',\n",
       " 'P01P05P06P09',\n",
       " 'P01P06',\n",
       " 'P01P09',\n",
       " 'P06P09',\n",
       " 'P02P09',\n",
       " 'P01P06P09P10',\n",
       " 'P03P05',\n",
       " 'P03P09',\n",
       " 'P03P05P06P09',\n",
       " 'P01P05P06P10',\n",
       " 'P01P03P09',\n",
       " 'P01P06',\n",
       " 'P01P06',\n",
       " 'P03P06',\n",
       " 'P01P09',\n",
       " 'P01P05P06P09',\n",
       " 'P05P07P09',\n",
       " 'P09P10',\n",
       " 'P01P03P09P10']"
      ]
     },
     "execution_count": 123,
     "metadata": {},
     "output_type": "execute_result"
    }
   ],
   "source": [
    "\n",
    "item_combs_test = item_combs[:20]\n",
    "item_combs_test"
   ]
  },
  {
   "cell_type": "code",
   "execution_count": 133,
   "metadata": {},
   "outputs": [
    {
     "name": "stdout",
     "output_type": "stream",
     "text": [
      "{1: [], 2: ['P06P09', 'P01P06', 'P01P09', 'P02P09', 'P03P05', 'P03P09', 'P03P06', 'P09P10', 'P01P03', 'P03P10', 'P01P10', 'P05P10', 'P06P10', 'P07P09', 'P01P05', 'P01P02', 'P03P07', 'P05P07', 'P06P07', 'P02P06', 'P05P09', 'P07P10', 'P02P03', 'P01P07', 'P02P05', 'P05P06', 'P02P10', 'P02P07'], 3: ['P01P03P09', 'P05P07P09', 'P01P03P05', 'P05P07P10', 'P01P07P10', 'P03P06P09', 'P03P05P06', 'P01P09P10', 'P01P06P07', 'P01P05P06', 'P03P05P07', 'P01P03P06', 'P03P09P10', 'P01P02P06', 'P02P06P09', 'P03P05P10', 'P06P07P09', 'P01P03P10', 'P05P06P09', 'P05P09P10', 'P01P05P09', 'P06P09P10', 'P01P06P09', 'P02P05P09', 'P02P03P07', 'P01P05P10', 'P01P02P09', 'P03P07P09', 'P03P06P10', 'P01P05P07', 'P02P03P06', 'P05P06P10', 'P02P06P10', 'P02P07P09', 'P01P06P10', 'P01P03P07', 'P02P07P10', 'P07P09P10', 'P01P02P07', 'P02P03P10', 'P03P05P09', 'P05P06P07', 'P02P09P10', 'P01P02P03', 'P06P07P10', 'P02P03P05', 'P02P03P09', 'P01P02P10', 'P02P05P10', 'P01P07P09', 'P03P06P07', 'P03P07P10', 'P01P02P05', 'P02P05P06', 'P02P06P07', 'P02P05P07'], 4: ['P01P05P06P09', 'P01P06P09P10', 'P03P05P06P09', 'P01P05P06P10', 'P01P03P09P10', 'P03P05P09P10', 'P01P05P07P10', 'P01P03P05P10', 'P01P02P06P10', 'P01P03P05P09', 'P03P05P07P10', 'P03P05P06P10', 'P01P03P05P07', 'P01P02P06P09', 'P01P03P06P10', 'P03P06P09P10', 'P01P02P03P09', 'P01P03P06P09', 'P05P06P09P10', 'P01P02P03P06', 'P01P03P07P09', 'P02P03P06P09', 'P05P06P07P09', 'P01P02P05P06', 'P03P05P07P09', 'P01P03P07P10', 'P01P05P07P09', 'P02P03P05P09', 'P06P07P09P10', 'P01P03P06P07', 'P05P06P07P10', 'P01P05P09P10', 'P01P03P05P06', 'P01P02P06P07', 'P01P02P03P10', 'P01P02P07P09', 'P03P07P09P10', 'P02P05P06P10', 'P01P06P07P09', 'P02P03P09P10', 'P03P06P07P10', 'P02P05P06P09', 'P03P06P07P09', 'P01P02P05P10', 'P02P05P07P10', 'P01P02P09P10', 'P01P02P03P05', 'P01P07P09P10', 'P02P03P06P07', 'P03P05P06P07', 'P01P02P05P09', 'P02P05P09P10', 'P05P07P09P10', 'P02P06P07P09', 'P02P03P07P09', 'P01P02P03P07', 'P02P05P07P09', 'P02P06P09P10', 'P01P05P06P07', 'P02P03P06P10', 'P02P06P07P10', 'P01P02P05P07', 'P02P03P05P07', 'P01P02P07P10', 'P01P06P07P10', 'P02P03P05P10', 'P02P07P09P10', 'P02P03P05P06', 'P02P05P06P07', 'P02P03P07P10'], 5: [], 6: [], 7: [], 8: [], 9: [], 10: [], 11: [], 12: [], 13: [], 14: [], 15: [], 16: [], 17: [], 18: [], 19: []}\n"
     ]
    }
   ],
   "source": [
    "\n",
    "nitem_2_combination = {}\n",
    "combination_2_frequency = {}\n",
    "for i in range(1,20):\n",
    "    nitem_2_combination[i]=[]\n",
    "\n",
    "for item_comb in item_combs:\n",
    "    n_item = len(item_comb.split('P'))-1\n",
    "    if item_comb not in nitem_2_combination[n_item]:\n",
    "        nitem_2_combination[n_item].append(item_comb)\n",
    "        \n",
    "    if item_comb not in combination_2_frequency:\n",
    "        \n",
    "        combination_2_frequency[item_comb] = 1\n",
    "    else:\n",
    "        combination_2_frequency[item_comb] += 1\n",
    "    #print(item_comb, combination_2_frequency[item_comb])\n",
    "\n",
    "print(nitem_2_combination) \n",
    "#print(combination_2_frequency)"
   ]
  },
  {
   "cell_type": "markdown",
   "metadata": {},
   "source": [
    "## search for model"
   ]
  },
  {
   "cell_type": "code",
   "execution_count": 134,
   "metadata": {},
   "outputs": [
    {
     "name": "stdout",
     "output_type": "stream",
     "text": [
      "['P06P09', 'P01P06', 'P01P09', 'P02P09', 'P03P05', 'P03P09', 'P03P06', 'P09P10', 'P01P03', 'P03P10', 'P01P10', 'P05P10', 'P06P10', 'P07P09', 'P01P05', 'P01P02', 'P03P07', 'P05P07', 'P06P07', 'P02P06', 'P05P09', 'P07P10', 'P02P03', 'P01P07', 'P02P05', 'P05P06', 'P02P10', 'P02P07']\n"
     ]
    }
   ],
   "source": [
    "test_combination = 'P01'\n",
    "nitem = 1 \n",
    "nitem += 1\n",
    "all_combinations = nitem_2_combination[nitem] \n",
    "print(all_combinations)\n",
    "#\n"
   ]
  },
  {
   "cell_type": "code",
   "execution_count": 141,
   "metadata": {},
   "outputs": [
    {
     "name": "stdout",
     "output_type": "stream",
     "text": [
      "{36337: 'P01P06', 49897: 'P01P09', 36092: 'P01P03', 23279: 'P01P10', 23770: 'P01P05', 11568: 'P01P02', 11603: 'P01P07'}\n",
      "P01P09\n"
     ]
    }
   ],
   "source": [
    "results = {}\n",
    "for comb in all_combinations:\n",
    "    if test_combination in comb:\n",
    "        frequency = combination_2_frequency[comb]\n",
    "        results[frequency] = comb\n",
    "print(results)\n",
    "keys = list(results.keys())\n",
    "keys.sort()\n",
    "highest_frequency = keys[-1]\n",
    "highest_comb = results[highest_frequency]\n",
    "print(highest_comb)\n"
   ]
  },
  {
   "cell_type": "code",
   "execution_count": 111,
   "metadata": {},
   "outputs": [
    {
     "name": "stdout",
     "output_type": "stream",
     "text": [
      "id 0\n",
      "id 1000000\n"
     ]
    }
   ],
   "source": [
    "url=\" http://kevincrook.com/utd/market_basket_training.txt\"\n",
    "response = urllib.request.urlopen(url)\n",
    "#f = open('test_sample.txt')\n",
    "n_item_save = 1000000\n",
    "n_total_row = 1000001\n",
    "\n",
    "item_combs=[]\n",
    "n_file = 0\n",
    "for i in range(n_total_row):\n",
    "    if i % n_item_save == 0:\n",
    "        print('id',i)\n",
    "        if i > 0:\n",
    "            #print(item_combs)\n",
    "            with open('data/item_combs_{}_{}.pickle'.format(i-n_item_save+1,i), 'wb') as handle:\n",
    "                pickle.dump(item_combs, handle)   \n",
    "        item_combs = []\n",
    "    # read each line    \n",
    "    line = response.readline()\n",
    "    \n",
    "    if line is None:\n",
    "        print('reach end')\n",
    "        break\n",
    "    else:\n",
    "        line = str(line)\n",
    "        if len(line) == '' or line == '':\n",
    "            print('reach end')\n",
    "            break\n",
    "    line_list = str(line).split(',')\n",
    "    item_comb = ''.join(line_list[1:-1]) + line_list[-1].split('\\\\')[0]\n",
    "    item_combs.append(item_comb)\n",
    "    #print('item_comb',item_comb)        \n",
    "    \n",
    "      \n",
    "    #line = f.readline()\n",
    "#     if line =='':\n",
    "#         print('end')\n",
    "#         break\n",
    "    #print(a[2])"
   ]
  },
  {
   "cell_type": "code",
   "execution_count": 112,
   "metadata": {},
   "outputs": [],
   "source": []
  },
  {
   "cell_type": "code",
   "execution_count": null,
   "metadata": {
    "collapsed": true
   },
   "outputs": [],
   "source": []
  }
 ],
 "metadata": {
  "kernelspec": {
   "display_name": "Python 3",
   "language": "python",
   "name": "python3"
  },
  "language_info": {
   "codemirror_mode": {
    "name": "ipython",
    "version": 3
   },
   "file_extension": ".py",
   "mimetype": "text/x-python",
   "name": "python",
   "nbconvert_exporter": "python",
   "pygments_lexer": "ipython3",
   "version": "3.6.3"
  }
 },
 "nbformat": 4,
 "nbformat_minor": 2
}
